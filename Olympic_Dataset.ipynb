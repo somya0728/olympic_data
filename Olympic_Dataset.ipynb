{
  "cells": [
    {
      "cell_type": "markdown",
      "id": "3fec8650",
      "metadata": {
        "id": "3fec8650"
      },
      "source": [
        "## Olympic DataSet"
      ]
    },
    {
      "cell_type": "markdown",
      "id": "7e4be341",
      "metadata": {
        "id": "7e4be341"
      },
      "source": [
        "### Introduction\n",
        "\n",
        "This dataset is a list of all the medal winners in the  Olympics from 2000 to 2012. \n",
        "It's a basic data set with athelete  information and winning medal details.\n",
        "\n",
        "##### Input Variables\n",
        "\n",
        "    name: name of the player\n",
        "    age: age of the player\n",
        "    country: country name which player is reprsenting\n",
        "    year: year of attending gane\n",
        "    Date_Given: sports winning date\n",
        "    sports: sport name\n",
        "    gold_medal: no of gold medal win\n",
        "    silver_medal: no of silver medal win\n",
        "    brone_medal: no of bronze medal win\n",
        "    total_medal: no of total medal win\n",
        "\n"
      ]
    },
    {
      "cell_type": "markdown",
      "id": "4ff504c9",
      "metadata": {
        "id": "4ff504c9"
      },
      "source": [
        "##### Importing Libraries"
      ]
    },
    {
      "cell_type": "code",
      "execution_count": 4,
      "id": "1af9aedc",
      "metadata": {
        "id": "1af9aedc"
      },
      "outputs": [],
      "source": [
        "import pandas as pd\n",
        "import numpy as np\n",
        "import seaborn as sns\n",
        "from matplotlib import pyplot as plt\n",
        "import missingno as msno\n",
        "import warnings \n",
        "warnings.filterwarnings('ignore')"
      ]
    },
    {
      "cell_type": "markdown",
      "id": "5a4c3b48",
      "metadata": {
        "id": "5a4c3b48"
      },
      "source": [
        "###### Loading Dataset"
      ]
    },
    {
      "cell_type": "code",
      "execution_count": 53,
      "id": "18242b5e",
      "metadata": {
        "id": "18242b5e"
      },
      "outputs": [],
      "source": [
        "#df = pd.read_csv('F://somya//python_code//capstone project//olympix_data_organized_with_header (1).csv')\n",
        "df = pd.read_csv('/content/olympix_data_organized_with_header (1).csv')"
      ]
    },
    {
      "cell_type": "code",
      "execution_count": 55,
      "id": "4d691860",
      "metadata": {
        "id": "4d691860",
        "outputId": "e4f88814-cc3a-497c-b352-a9c3b3801199",
        "colab": {
          "base_uri": "https://localhost:8080/"
        }
      },
      "outputs": [
        {
          "output_type": "execute_result",
          "data": {
            "text/plain": [
              "(8618, 10)"
            ]
          },
          "metadata": {},
          "execution_count": 55
        }
      ],
      "source": [
        "df.shape # Checking no of observations and column"
      ]
    },
    {
      "cell_type": "code",
      "execution_count": 56,
      "id": "f67ddc42",
      "metadata": {
        "id": "f67ddc42",
        "outputId": "c22b0d40-567e-4cf4-fff1-2126f288fed7",
        "colab": {
          "base_uri": "https://localhost:8080/",
          "height": 206
        }
      },
      "outputs": [
        {
          "output_type": "execute_result",
          "data": {
            "text/plain": [
              "               name   age        country  year  Date_Given      sports  \\\n",
              "0    Michael Phelps  23.0  United States  2008  2008-08-24    Swimming   \n",
              "1    Michael Phelps  19.0  United States  2004  2004-08-29    Swimming   \n",
              "2    Michael Phelps  27.0  United States  2012  2012-12-08    Swimming   \n",
              "3  Natalie Coughlin  25.0  United States  2008  2008-08-24    Swimming   \n",
              "4     Aleksey Nemov  24.0         Russia  2000  2000-01-10  Gymnastics   \n",
              "\n",
              "   gold_medal  silver_medal  brone_medal  total_medal  \n",
              "0           8             0            0            8  \n",
              "1           6             0            2            8  \n",
              "2           4             2            0            6  \n",
              "3           1             2            3            6  \n",
              "4           2             1            3            6  "
            ],
            "text/html": [
              "\n",
              "  <div id=\"df-4cd6560b-9e79-460f-a98d-9ee1651d727e\">\n",
              "    <div class=\"colab-df-container\">\n",
              "      <div>\n",
              "<style scoped>\n",
              "    .dataframe tbody tr th:only-of-type {\n",
              "        vertical-align: middle;\n",
              "    }\n",
              "\n",
              "    .dataframe tbody tr th {\n",
              "        vertical-align: top;\n",
              "    }\n",
              "\n",
              "    .dataframe thead th {\n",
              "        text-align: right;\n",
              "    }\n",
              "</style>\n",
              "<table border=\"1\" class=\"dataframe\">\n",
              "  <thead>\n",
              "    <tr style=\"text-align: right;\">\n",
              "      <th></th>\n",
              "      <th>name</th>\n",
              "      <th>age</th>\n",
              "      <th>country</th>\n",
              "      <th>year</th>\n",
              "      <th>Date_Given</th>\n",
              "      <th>sports</th>\n",
              "      <th>gold_medal</th>\n",
              "      <th>silver_medal</th>\n",
              "      <th>brone_medal</th>\n",
              "      <th>total_medal</th>\n",
              "    </tr>\n",
              "  </thead>\n",
              "  <tbody>\n",
              "    <tr>\n",
              "      <th>0</th>\n",
              "      <td>Michael Phelps</td>\n",
              "      <td>23.0</td>\n",
              "      <td>United States</td>\n",
              "      <td>2008</td>\n",
              "      <td>2008-08-24</td>\n",
              "      <td>Swimming</td>\n",
              "      <td>8</td>\n",
              "      <td>0</td>\n",
              "      <td>0</td>\n",
              "      <td>8</td>\n",
              "    </tr>\n",
              "    <tr>\n",
              "      <th>1</th>\n",
              "      <td>Michael Phelps</td>\n",
              "      <td>19.0</td>\n",
              "      <td>United States</td>\n",
              "      <td>2004</td>\n",
              "      <td>2004-08-29</td>\n",
              "      <td>Swimming</td>\n",
              "      <td>6</td>\n",
              "      <td>0</td>\n",
              "      <td>2</td>\n",
              "      <td>8</td>\n",
              "    </tr>\n",
              "    <tr>\n",
              "      <th>2</th>\n",
              "      <td>Michael Phelps</td>\n",
              "      <td>27.0</td>\n",
              "      <td>United States</td>\n",
              "      <td>2012</td>\n",
              "      <td>2012-12-08</td>\n",
              "      <td>Swimming</td>\n",
              "      <td>4</td>\n",
              "      <td>2</td>\n",
              "      <td>0</td>\n",
              "      <td>6</td>\n",
              "    </tr>\n",
              "    <tr>\n",
              "      <th>3</th>\n",
              "      <td>Natalie Coughlin</td>\n",
              "      <td>25.0</td>\n",
              "      <td>United States</td>\n",
              "      <td>2008</td>\n",
              "      <td>2008-08-24</td>\n",
              "      <td>Swimming</td>\n",
              "      <td>1</td>\n",
              "      <td>2</td>\n",
              "      <td>3</td>\n",
              "      <td>6</td>\n",
              "    </tr>\n",
              "    <tr>\n",
              "      <th>4</th>\n",
              "      <td>Aleksey Nemov</td>\n",
              "      <td>24.0</td>\n",
              "      <td>Russia</td>\n",
              "      <td>2000</td>\n",
              "      <td>2000-01-10</td>\n",
              "      <td>Gymnastics</td>\n",
              "      <td>2</td>\n",
              "      <td>1</td>\n",
              "      <td>3</td>\n",
              "      <td>6</td>\n",
              "    </tr>\n",
              "  </tbody>\n",
              "</table>\n",
              "</div>\n",
              "      <button class=\"colab-df-convert\" onclick=\"convertToInteractive('df-4cd6560b-9e79-460f-a98d-9ee1651d727e')\"\n",
              "              title=\"Convert this dataframe to an interactive table.\"\n",
              "              style=\"display:none;\">\n",
              "        \n",
              "  <svg xmlns=\"http://www.w3.org/2000/svg\" height=\"24px\"viewBox=\"0 0 24 24\"\n",
              "       width=\"24px\">\n",
              "    <path d=\"M0 0h24v24H0V0z\" fill=\"none\"/>\n",
              "    <path d=\"M18.56 5.44l.94 2.06.94-2.06 2.06-.94-2.06-.94-.94-2.06-.94 2.06-2.06.94zm-11 1L8.5 8.5l.94-2.06 2.06-.94-2.06-.94L8.5 2.5l-.94 2.06-2.06.94zm10 10l.94 2.06.94-2.06 2.06-.94-2.06-.94-.94-2.06-.94 2.06-2.06.94z\"/><path d=\"M17.41 7.96l-1.37-1.37c-.4-.4-.92-.59-1.43-.59-.52 0-1.04.2-1.43.59L10.3 9.45l-7.72 7.72c-.78.78-.78 2.05 0 2.83L4 21.41c.39.39.9.59 1.41.59.51 0 1.02-.2 1.41-.59l7.78-7.78 2.81-2.81c.8-.78.8-2.07 0-2.86zM5.41 20L4 18.59l7.72-7.72 1.47 1.35L5.41 20z\"/>\n",
              "  </svg>\n",
              "      </button>\n",
              "      \n",
              "  <style>\n",
              "    .colab-df-container {\n",
              "      display:flex;\n",
              "      flex-wrap:wrap;\n",
              "      gap: 12px;\n",
              "    }\n",
              "\n",
              "    .colab-df-convert {\n",
              "      background-color: #E8F0FE;\n",
              "      border: none;\n",
              "      border-radius: 50%;\n",
              "      cursor: pointer;\n",
              "      display: none;\n",
              "      fill: #1967D2;\n",
              "      height: 32px;\n",
              "      padding: 0 0 0 0;\n",
              "      width: 32px;\n",
              "    }\n",
              "\n",
              "    .colab-df-convert:hover {\n",
              "      background-color: #E2EBFA;\n",
              "      box-shadow: 0px 1px 2px rgba(60, 64, 67, 0.3), 0px 1px 3px 1px rgba(60, 64, 67, 0.15);\n",
              "      fill: #174EA6;\n",
              "    }\n",
              "\n",
              "    [theme=dark] .colab-df-convert {\n",
              "      background-color: #3B4455;\n",
              "      fill: #D2E3FC;\n",
              "    }\n",
              "\n",
              "    [theme=dark] .colab-df-convert:hover {\n",
              "      background-color: #434B5C;\n",
              "      box-shadow: 0px 1px 3px 1px rgba(0, 0, 0, 0.15);\n",
              "      filter: drop-shadow(0px 1px 2px rgba(0, 0, 0, 0.3));\n",
              "      fill: #FFFFFF;\n",
              "    }\n",
              "  </style>\n",
              "\n",
              "      <script>\n",
              "        const buttonEl =\n",
              "          document.querySelector('#df-4cd6560b-9e79-460f-a98d-9ee1651d727e button.colab-df-convert');\n",
              "        buttonEl.style.display =\n",
              "          google.colab.kernel.accessAllowed ? 'block' : 'none';\n",
              "\n",
              "        async function convertToInteractive(key) {\n",
              "          const element = document.querySelector('#df-4cd6560b-9e79-460f-a98d-9ee1651d727e');\n",
              "          const dataTable =\n",
              "            await google.colab.kernel.invokeFunction('convertToInteractive',\n",
              "                                                     [key], {});\n",
              "          if (!dataTable) return;\n",
              "\n",
              "          const docLinkHtml = 'Like what you see? Visit the ' +\n",
              "            '<a target=\"_blank\" href=https://colab.research.google.com/notebooks/data_table.ipynb>data table notebook</a>'\n",
              "            + ' to learn more about interactive tables.';\n",
              "          element.innerHTML = '';\n",
              "          dataTable['output_type'] = 'display_data';\n",
              "          await google.colab.output.renderOutput(dataTable, element);\n",
              "          const docLink = document.createElement('div');\n",
              "          docLink.innerHTML = docLinkHtml;\n",
              "          element.appendChild(docLink);\n",
              "        }\n",
              "      </script>\n",
              "    </div>\n",
              "  </div>\n",
              "  "
            ]
          },
          "metadata": {},
          "execution_count": 56
        }
      ],
      "source": [
        "df.head(5) # first 5 rows of dataframe to review the dataset"
      ]
    },
    {
      "cell_type": "code",
      "execution_count": 57,
      "id": "3431b483",
      "metadata": {
        "id": "3431b483",
        "outputId": "c69ce082-d187-4a12-83e2-feb71e177227",
        "colab": {
          "base_uri": "https://localhost:8080/",
          "height": 206
        }
      },
      "outputs": [
        {
          "output_type": "execute_result",
          "data": {
            "text/plain": [
              "                      name   age        country  year  Date_Given   sports  \\\n",
              "8613      Olena Sadovnycha  32.0        Ukraine  2000  2000-01-10  Archery   \n",
              "8614      Kateryna Serdiuk  17.0        Ukraine  2000  2000-01-10  Archery   \n",
              "8615      Wietse van Alten  21.0    Netherlands  2000  2000-01-10  Archery   \n",
              "8616  Sandra Wagner-Sachse  31.0        Germany  2000  2000-01-10  Archery   \n",
              "8617             Rod White  23.0  United States  2000  2000-01-10  Archery   \n",
              "\n",
              "      gold_medal  silver_medal  brone_medal  total_medal  \n",
              "8613           0             1            0            1  \n",
              "8614           0             1            0            1  \n",
              "8615           0             0            1            1  \n",
              "8616           0             0            1            1  \n",
              "8617           0             0            1            1  "
            ],
            "text/html": [
              "\n",
              "  <div id=\"df-d12d43b7-99a1-45b8-8b04-d87c2e6193f4\">\n",
              "    <div class=\"colab-df-container\">\n",
              "      <div>\n",
              "<style scoped>\n",
              "    .dataframe tbody tr th:only-of-type {\n",
              "        vertical-align: middle;\n",
              "    }\n",
              "\n",
              "    .dataframe tbody tr th {\n",
              "        vertical-align: top;\n",
              "    }\n",
              "\n",
              "    .dataframe thead th {\n",
              "        text-align: right;\n",
              "    }\n",
              "</style>\n",
              "<table border=\"1\" class=\"dataframe\">\n",
              "  <thead>\n",
              "    <tr style=\"text-align: right;\">\n",
              "      <th></th>\n",
              "      <th>name</th>\n",
              "      <th>age</th>\n",
              "      <th>country</th>\n",
              "      <th>year</th>\n",
              "      <th>Date_Given</th>\n",
              "      <th>sports</th>\n",
              "      <th>gold_medal</th>\n",
              "      <th>silver_medal</th>\n",
              "      <th>brone_medal</th>\n",
              "      <th>total_medal</th>\n",
              "    </tr>\n",
              "  </thead>\n",
              "  <tbody>\n",
              "    <tr>\n",
              "      <th>8613</th>\n",
              "      <td>Olena Sadovnycha</td>\n",
              "      <td>32.0</td>\n",
              "      <td>Ukraine</td>\n",
              "      <td>2000</td>\n",
              "      <td>2000-01-10</td>\n",
              "      <td>Archery</td>\n",
              "      <td>0</td>\n",
              "      <td>1</td>\n",
              "      <td>0</td>\n",
              "      <td>1</td>\n",
              "    </tr>\n",
              "    <tr>\n",
              "      <th>8614</th>\n",
              "      <td>Kateryna Serdiuk</td>\n",
              "      <td>17.0</td>\n",
              "      <td>Ukraine</td>\n",
              "      <td>2000</td>\n",
              "      <td>2000-01-10</td>\n",
              "      <td>Archery</td>\n",
              "      <td>0</td>\n",
              "      <td>1</td>\n",
              "      <td>0</td>\n",
              "      <td>1</td>\n",
              "    </tr>\n",
              "    <tr>\n",
              "      <th>8615</th>\n",
              "      <td>Wietse van Alten</td>\n",
              "      <td>21.0</td>\n",
              "      <td>Netherlands</td>\n",
              "      <td>2000</td>\n",
              "      <td>2000-01-10</td>\n",
              "      <td>Archery</td>\n",
              "      <td>0</td>\n",
              "      <td>0</td>\n",
              "      <td>1</td>\n",
              "      <td>1</td>\n",
              "    </tr>\n",
              "    <tr>\n",
              "      <th>8616</th>\n",
              "      <td>Sandra Wagner-Sachse</td>\n",
              "      <td>31.0</td>\n",
              "      <td>Germany</td>\n",
              "      <td>2000</td>\n",
              "      <td>2000-01-10</td>\n",
              "      <td>Archery</td>\n",
              "      <td>0</td>\n",
              "      <td>0</td>\n",
              "      <td>1</td>\n",
              "      <td>1</td>\n",
              "    </tr>\n",
              "    <tr>\n",
              "      <th>8617</th>\n",
              "      <td>Rod White</td>\n",
              "      <td>23.0</td>\n",
              "      <td>United States</td>\n",
              "      <td>2000</td>\n",
              "      <td>2000-01-10</td>\n",
              "      <td>Archery</td>\n",
              "      <td>0</td>\n",
              "      <td>0</td>\n",
              "      <td>1</td>\n",
              "      <td>1</td>\n",
              "    </tr>\n",
              "  </tbody>\n",
              "</table>\n",
              "</div>\n",
              "      <button class=\"colab-df-convert\" onclick=\"convertToInteractive('df-d12d43b7-99a1-45b8-8b04-d87c2e6193f4')\"\n",
              "              title=\"Convert this dataframe to an interactive table.\"\n",
              "              style=\"display:none;\">\n",
              "        \n",
              "  <svg xmlns=\"http://www.w3.org/2000/svg\" height=\"24px\"viewBox=\"0 0 24 24\"\n",
              "       width=\"24px\">\n",
              "    <path d=\"M0 0h24v24H0V0z\" fill=\"none\"/>\n",
              "    <path d=\"M18.56 5.44l.94 2.06.94-2.06 2.06-.94-2.06-.94-.94-2.06-.94 2.06-2.06.94zm-11 1L8.5 8.5l.94-2.06 2.06-.94-2.06-.94L8.5 2.5l-.94 2.06-2.06.94zm10 10l.94 2.06.94-2.06 2.06-.94-2.06-.94-.94-2.06-.94 2.06-2.06.94z\"/><path d=\"M17.41 7.96l-1.37-1.37c-.4-.4-.92-.59-1.43-.59-.52 0-1.04.2-1.43.59L10.3 9.45l-7.72 7.72c-.78.78-.78 2.05 0 2.83L4 21.41c.39.39.9.59 1.41.59.51 0 1.02-.2 1.41-.59l7.78-7.78 2.81-2.81c.8-.78.8-2.07 0-2.86zM5.41 20L4 18.59l7.72-7.72 1.47 1.35L5.41 20z\"/>\n",
              "  </svg>\n",
              "      </button>\n",
              "      \n",
              "  <style>\n",
              "    .colab-df-container {\n",
              "      display:flex;\n",
              "      flex-wrap:wrap;\n",
              "      gap: 12px;\n",
              "    }\n",
              "\n",
              "    .colab-df-convert {\n",
              "      background-color: #E8F0FE;\n",
              "      border: none;\n",
              "      border-radius: 50%;\n",
              "      cursor: pointer;\n",
              "      display: none;\n",
              "      fill: #1967D2;\n",
              "      height: 32px;\n",
              "      padding: 0 0 0 0;\n",
              "      width: 32px;\n",
              "    }\n",
              "\n",
              "    .colab-df-convert:hover {\n",
              "      background-color: #E2EBFA;\n",
              "      box-shadow: 0px 1px 2px rgba(60, 64, 67, 0.3), 0px 1px 3px 1px rgba(60, 64, 67, 0.15);\n",
              "      fill: #174EA6;\n",
              "    }\n",
              "\n",
              "    [theme=dark] .colab-df-convert {\n",
              "      background-color: #3B4455;\n",
              "      fill: #D2E3FC;\n",
              "    }\n",
              "\n",
              "    [theme=dark] .colab-df-convert:hover {\n",
              "      background-color: #434B5C;\n",
              "      box-shadow: 0px 1px 3px 1px rgba(0, 0, 0, 0.15);\n",
              "      filter: drop-shadow(0px 1px 2px rgba(0, 0, 0, 0.3));\n",
              "      fill: #FFFFFF;\n",
              "    }\n",
              "  </style>\n",
              "\n",
              "      <script>\n",
              "        const buttonEl =\n",
              "          document.querySelector('#df-d12d43b7-99a1-45b8-8b04-d87c2e6193f4 button.colab-df-convert');\n",
              "        buttonEl.style.display =\n",
              "          google.colab.kernel.accessAllowed ? 'block' : 'none';\n",
              "\n",
              "        async function convertToInteractive(key) {\n",
              "          const element = document.querySelector('#df-d12d43b7-99a1-45b8-8b04-d87c2e6193f4');\n",
              "          const dataTable =\n",
              "            await google.colab.kernel.invokeFunction('convertToInteractive',\n",
              "                                                     [key], {});\n",
              "          if (!dataTable) return;\n",
              "\n",
              "          const docLinkHtml = 'Like what you see? Visit the ' +\n",
              "            '<a target=\"_blank\" href=https://colab.research.google.com/notebooks/data_table.ipynb>data table notebook</a>'\n",
              "            + ' to learn more about interactive tables.';\n",
              "          element.innerHTML = '';\n",
              "          dataTable['output_type'] = 'display_data';\n",
              "          await google.colab.output.renderOutput(dataTable, element);\n",
              "          const docLink = document.createElement('div');\n",
              "          docLink.innerHTML = docLinkHtml;\n",
              "          element.appendChild(docLink);\n",
              "        }\n",
              "      </script>\n",
              "    </div>\n",
              "  </div>\n",
              "  "
            ]
          },
          "metadata": {},
          "execution_count": 57
        }
      ],
      "source": [
        "df.tail() # last 5 rows of data frome to review the dataset"
      ]
    },
    {
      "cell_type": "code",
      "execution_count": 58,
      "id": "932caf02",
      "metadata": {
        "id": "932caf02",
        "outputId": "0bc6d870-de83-4ff5-f62b-3e42d8d43baf",
        "colab": {
          "base_uri": "https://localhost:8080/"
        }
      },
      "outputs": [
        {
          "output_type": "execute_result",
          "data": {
            "text/plain": [
              "name            6955\n",
              "age               42\n",
              "country          110\n",
              "year               7\n",
              "Date_Given         7\n",
              "sports            49\n",
              "gold_medal         7\n",
              "silver_medal       4\n",
              "brone_medal        4\n",
              "total_medal        7\n",
              "dtype: int64"
            ]
          },
          "metadata": {},
          "execution_count": 58
        }
      ],
      "source": [
        "df.nunique() # unique values in each columns"
      ]
    },
    {
      "cell_type": "markdown",
      "id": "fcadc168",
      "metadata": {
        "id": "fcadc168"
      },
      "source": [
        "##### Deal with missing values appropriately. You can either remove them or fill them, but a proper justification is required."
      ]
    },
    {
      "cell_type": "code",
      "execution_count": 59,
      "id": "4e6dd186",
      "metadata": {
        "id": "4e6dd186",
        "outputId": "994a86ef-2aec-4cd8-99bd-d543680339df",
        "colab": {
          "base_uri": "https://localhost:8080/"
        }
      },
      "outputs": [
        {
          "output_type": "execute_result",
          "data": {
            "text/plain": [
              "name            5\n",
              "age             5\n",
              "country         0\n",
              "year            0\n",
              "Date_Given      0\n",
              "sports          0\n",
              "gold_medal      0\n",
              "silver_medal    0\n",
              "brone_medal     0\n",
              "total_medal     0\n",
              "dtype: int64"
            ]
          },
          "metadata": {},
          "execution_count": 59
        }
      ],
      "source": [
        "df.isnull().sum() # checking sum of the missing values"
      ]
    },
    {
      "cell_type": "markdown",
      "source": [
        "total 5 values are missing"
      ],
      "metadata": {
        "id": "BNjuGjqed1Ob"
      },
      "id": "BNjuGjqed1Ob"
    },
    {
      "cell_type": "code",
      "source": [
        "df.isnull().mean()*100 # missingvalues percentage"
      ],
      "metadata": {
        "colab": {
          "base_uri": "https://localhost:8080/"
        },
        "id": "qAMHiKIJR3lM",
        "outputId": "2794ec9b-7bc6-4729-b78e-456476f867f5"
      },
      "id": "qAMHiKIJR3lM",
      "execution_count": 60,
      "outputs": [
        {
          "output_type": "execute_result",
          "data": {
            "text/plain": [
              "name            0.058018\n",
              "age             0.058018\n",
              "country         0.000000\n",
              "year            0.000000\n",
              "Date_Given      0.000000\n",
              "sports          0.000000\n",
              "gold_medal      0.000000\n",
              "silver_medal    0.000000\n",
              "brone_medal     0.000000\n",
              "total_medal     0.000000\n",
              "dtype: float64"
            ]
          },
          "metadata": {},
          "execution_count": 60
        }
      ]
    },
    {
      "cell_type": "markdown",
      "source": [
        "percentage of missing values is .05 in the columns of name and age\n"
      ],
      "metadata": {
        "id": "ZwrNEgh-d-ss"
      },
      "id": "ZwrNEgh-d-ss"
    },
    {
      "cell_type": "code",
      "execution_count": 61,
      "id": "3ae678a8",
      "metadata": {
        "id": "3ae678a8",
        "outputId": "4e5b2c6d-33fe-458f-d972-f96e628b7676",
        "colab": {
          "base_uri": "https://localhost:8080/",
          "height": 206
        }
      },
      "outputs": [
        {
          "output_type": "execute_result",
          "data": {
            "text/plain": [
              "     name  age    country  year  Date_Given      sports  gold_medal  \\\n",
              "1428  NaN  NaN     Brazil  2012  2012-12-08  Volleyball           0   \n",
              "1429  NaN  NaN     Brazil  2012  2012-12-08  Volleyball           0   \n",
              "1430  NaN  NaN     Brazil  2012  2012-12-08  Volleyball           0   \n",
              "4485  NaN  NaN  Argentina  2012  2012-12-08      Hockey           0   \n",
              "4486  NaN  NaN  Argentina  2012  2012-12-08      Hockey           0   \n",
              "\n",
              "      silver_medal  brone_medal  total_medal  \n",
              "1428             1            0            1  \n",
              "1429             1            0            1  \n",
              "1430             1            0            1  \n",
              "4485             1            0            1  \n",
              "4486             1            0            1  "
            ],
            "text/html": [
              "\n",
              "  <div id=\"df-e9ffbe23-c220-488c-89f0-7c00df0f8958\">\n",
              "    <div class=\"colab-df-container\">\n",
              "      <div>\n",
              "<style scoped>\n",
              "    .dataframe tbody tr th:only-of-type {\n",
              "        vertical-align: middle;\n",
              "    }\n",
              "\n",
              "    .dataframe tbody tr th {\n",
              "        vertical-align: top;\n",
              "    }\n",
              "\n",
              "    .dataframe thead th {\n",
              "        text-align: right;\n",
              "    }\n",
              "</style>\n",
              "<table border=\"1\" class=\"dataframe\">\n",
              "  <thead>\n",
              "    <tr style=\"text-align: right;\">\n",
              "      <th></th>\n",
              "      <th>name</th>\n",
              "      <th>age</th>\n",
              "      <th>country</th>\n",
              "      <th>year</th>\n",
              "      <th>Date_Given</th>\n",
              "      <th>sports</th>\n",
              "      <th>gold_medal</th>\n",
              "      <th>silver_medal</th>\n",
              "      <th>brone_medal</th>\n",
              "      <th>total_medal</th>\n",
              "    </tr>\n",
              "  </thead>\n",
              "  <tbody>\n",
              "    <tr>\n",
              "      <th>1428</th>\n",
              "      <td>NaN</td>\n",
              "      <td>NaN</td>\n",
              "      <td>Brazil</td>\n",
              "      <td>2012</td>\n",
              "      <td>2012-12-08</td>\n",
              "      <td>Volleyball</td>\n",
              "      <td>0</td>\n",
              "      <td>1</td>\n",
              "      <td>0</td>\n",
              "      <td>1</td>\n",
              "    </tr>\n",
              "    <tr>\n",
              "      <th>1429</th>\n",
              "      <td>NaN</td>\n",
              "      <td>NaN</td>\n",
              "      <td>Brazil</td>\n",
              "      <td>2012</td>\n",
              "      <td>2012-12-08</td>\n",
              "      <td>Volleyball</td>\n",
              "      <td>0</td>\n",
              "      <td>1</td>\n",
              "      <td>0</td>\n",
              "      <td>1</td>\n",
              "    </tr>\n",
              "    <tr>\n",
              "      <th>1430</th>\n",
              "      <td>NaN</td>\n",
              "      <td>NaN</td>\n",
              "      <td>Brazil</td>\n",
              "      <td>2012</td>\n",
              "      <td>2012-12-08</td>\n",
              "      <td>Volleyball</td>\n",
              "      <td>0</td>\n",
              "      <td>1</td>\n",
              "      <td>0</td>\n",
              "      <td>1</td>\n",
              "    </tr>\n",
              "    <tr>\n",
              "      <th>4485</th>\n",
              "      <td>NaN</td>\n",
              "      <td>NaN</td>\n",
              "      <td>Argentina</td>\n",
              "      <td>2012</td>\n",
              "      <td>2012-12-08</td>\n",
              "      <td>Hockey</td>\n",
              "      <td>0</td>\n",
              "      <td>1</td>\n",
              "      <td>0</td>\n",
              "      <td>1</td>\n",
              "    </tr>\n",
              "    <tr>\n",
              "      <th>4486</th>\n",
              "      <td>NaN</td>\n",
              "      <td>NaN</td>\n",
              "      <td>Argentina</td>\n",
              "      <td>2012</td>\n",
              "      <td>2012-12-08</td>\n",
              "      <td>Hockey</td>\n",
              "      <td>0</td>\n",
              "      <td>1</td>\n",
              "      <td>0</td>\n",
              "      <td>1</td>\n",
              "    </tr>\n",
              "  </tbody>\n",
              "</table>\n",
              "</div>\n",
              "      <button class=\"colab-df-convert\" onclick=\"convertToInteractive('df-e9ffbe23-c220-488c-89f0-7c00df0f8958')\"\n",
              "              title=\"Convert this dataframe to an interactive table.\"\n",
              "              style=\"display:none;\">\n",
              "        \n",
              "  <svg xmlns=\"http://www.w3.org/2000/svg\" height=\"24px\"viewBox=\"0 0 24 24\"\n",
              "       width=\"24px\">\n",
              "    <path d=\"M0 0h24v24H0V0z\" fill=\"none\"/>\n",
              "    <path d=\"M18.56 5.44l.94 2.06.94-2.06 2.06-.94-2.06-.94-.94-2.06-.94 2.06-2.06.94zm-11 1L8.5 8.5l.94-2.06 2.06-.94-2.06-.94L8.5 2.5l-.94 2.06-2.06.94zm10 10l.94 2.06.94-2.06 2.06-.94-2.06-.94-.94-2.06-.94 2.06-2.06.94z\"/><path d=\"M17.41 7.96l-1.37-1.37c-.4-.4-.92-.59-1.43-.59-.52 0-1.04.2-1.43.59L10.3 9.45l-7.72 7.72c-.78.78-.78 2.05 0 2.83L4 21.41c.39.39.9.59 1.41.59.51 0 1.02-.2 1.41-.59l7.78-7.78 2.81-2.81c.8-.78.8-2.07 0-2.86zM5.41 20L4 18.59l7.72-7.72 1.47 1.35L5.41 20z\"/>\n",
              "  </svg>\n",
              "      </button>\n",
              "      \n",
              "  <style>\n",
              "    .colab-df-container {\n",
              "      display:flex;\n",
              "      flex-wrap:wrap;\n",
              "      gap: 12px;\n",
              "    }\n",
              "\n",
              "    .colab-df-convert {\n",
              "      background-color: #E8F0FE;\n",
              "      border: none;\n",
              "      border-radius: 50%;\n",
              "      cursor: pointer;\n",
              "      display: none;\n",
              "      fill: #1967D2;\n",
              "      height: 32px;\n",
              "      padding: 0 0 0 0;\n",
              "      width: 32px;\n",
              "    }\n",
              "\n",
              "    .colab-df-convert:hover {\n",
              "      background-color: #E2EBFA;\n",
              "      box-shadow: 0px 1px 2px rgba(60, 64, 67, 0.3), 0px 1px 3px 1px rgba(60, 64, 67, 0.15);\n",
              "      fill: #174EA6;\n",
              "    }\n",
              "\n",
              "    [theme=dark] .colab-df-convert {\n",
              "      background-color: #3B4455;\n",
              "      fill: #D2E3FC;\n",
              "    }\n",
              "\n",
              "    [theme=dark] .colab-df-convert:hover {\n",
              "      background-color: #434B5C;\n",
              "      box-shadow: 0px 1px 3px 1px rgba(0, 0, 0, 0.15);\n",
              "      filter: drop-shadow(0px 1px 2px rgba(0, 0, 0, 0.3));\n",
              "      fill: #FFFFFF;\n",
              "    }\n",
              "  </style>\n",
              "\n",
              "      <script>\n",
              "        const buttonEl =\n",
              "          document.querySelector('#df-e9ffbe23-c220-488c-89f0-7c00df0f8958 button.colab-df-convert');\n",
              "        buttonEl.style.display =\n",
              "          google.colab.kernel.accessAllowed ? 'block' : 'none';\n",
              "\n",
              "        async function convertToInteractive(key) {\n",
              "          const element = document.querySelector('#df-e9ffbe23-c220-488c-89f0-7c00df0f8958');\n",
              "          const dataTable =\n",
              "            await google.colab.kernel.invokeFunction('convertToInteractive',\n",
              "                                                     [key], {});\n",
              "          if (!dataTable) return;\n",
              "\n",
              "          const docLinkHtml = 'Like what you see? Visit the ' +\n",
              "            '<a target=\"_blank\" href=https://colab.research.google.com/notebooks/data_table.ipynb>data table notebook</a>'\n",
              "            + ' to learn more about interactive tables.';\n",
              "          element.innerHTML = '';\n",
              "          dataTable['output_type'] = 'display_data';\n",
              "          await google.colab.output.renderOutput(dataTable, element);\n",
              "          const docLink = document.createElement('div');\n",
              "          docLink.innerHTML = docLinkHtml;\n",
              "          element.appendChild(docLink);\n",
              "        }\n",
              "      </script>\n",
              "    </div>\n",
              "  </div>\n",
              "  "
            ]
          },
          "metadata": {},
          "execution_count": 61
        }
      ],
      "source": [
        "df[df.name.isnull()==True] # there is 5 values missing in name and check"
      ]
    },
    {
      "cell_type": "code",
      "execution_count": 62,
      "id": "cf6aa050",
      "metadata": {
        "id": "cf6aa050"
      },
      "outputs": [],
      "source": [
        "# if the number of missing values would high then i will go with the imputations techniques but for now i will drop the rows.\n",
        "df.drop(labels=df[df.name.isnull()==True].index,axis=0,inplace=True)"
      ]
    },
    {
      "cell_type": "code",
      "execution_count": 63,
      "id": "543a3a50",
      "metadata": {
        "id": "543a3a50",
        "outputId": "3d81f3a7-4256-44ee-cbe6-1f91f881899c",
        "colab": {
          "base_uri": "https://localhost:8080/"
        }
      },
      "outputs": [
        {
          "output_type": "execute_result",
          "data": {
            "text/plain": [
              "name            0\n",
              "age             0\n",
              "country         0\n",
              "year            0\n",
              "Date_Given      0\n",
              "sports          0\n",
              "gold_medal      0\n",
              "silver_medal    0\n",
              "brone_medal     0\n",
              "total_medal     0\n",
              "dtype: int64"
            ]
          },
          "metadata": {},
          "execution_count": 63
        }
      ],
      "source": [
        "# cross checking the null values \n",
        "df.isnull().sum()"
      ]
    },
    {
      "cell_type": "markdown",
      "source": [
        "there is no missing values left ."
      ],
      "metadata": {
        "id": "iuF7LlK0e0Zi"
      },
      "id": "iuF7LlK0e0Zi"
    },
    {
      "cell_type": "markdown",
      "id": "f93f138c",
      "metadata": {
        "id": "f93f138c"
      },
      "source": [
        "##### Duplicates in the dataset introduces bias in the study. Please check and perform appropriate steps."
      ]
    },
    {
      "cell_type": "code",
      "execution_count": 64,
      "id": "f14a8574",
      "metadata": {
        "id": "f14a8574",
        "outputId": "991bcceb-caa4-4ecb-87e2-4081c9bc655e",
        "colab": {
          "base_uri": "https://localhost:8080/"
        }
      },
      "outputs": [
        {
          "output_type": "execute_result",
          "data": {
            "text/plain": [
              "(8613, 10)"
            ]
          },
          "metadata": {},
          "execution_count": 64
        }
      ],
      "source": [
        "df.shape # no of observations and featurs after removing the missing values"
      ]
    },
    {
      "cell_type": "code",
      "execution_count": 65,
      "id": "5c9b5bd1",
      "metadata": {
        "id": "5c9b5bd1"
      },
      "outputs": [],
      "source": [
        "#droping duplicates if any available\n",
        "df=df.drop_duplicates(subset=None, keep='first', inplace=False)"
      ]
    },
    {
      "cell_type": "code",
      "execution_count": 66,
      "id": "deb39d5b",
      "metadata": {
        "id": "deb39d5b",
        "outputId": "53e8459e-6cc3-41f8-d8fe-5d0f274e2582",
        "colab": {
          "base_uri": "https://localhost:8080/"
        }
      },
      "outputs": [
        {
          "output_type": "execute_result",
          "data": {
            "text/plain": [
              "(8613, 10)"
            ]
          },
          "metadata": {},
          "execution_count": 66
        }
      ],
      "source": [
        "df.shape  # checking obbservations and features after droping duplicates"
      ]
    },
    {
      "cell_type": "markdown",
      "id": "a4251db4",
      "metadata": {
        "id": "a4251db4"
      },
      "source": [
        "##### Please remove special characters from the name column."
      ]
    },
    {
      "cell_type": "code",
      "execution_count": 67,
      "id": "3dca6388",
      "metadata": {
        "id": "3dca6388"
      },
      "outputs": [],
      "source": [
        "#removing special character with the help of the regex\n",
        "import re # importing regex library for removing special characters\n",
        "def strip_character(dataCol): # defining a function for cleaning special charcter in name column\n",
        "    r = re.compile(r'[^a-zA-Z !@#$%&*_+-=|\\:\";<>,./()[\\]{}\\']')   # the charcters which need to check \n",
        "    return r.sub('', dataCol) #replacing special character with blank \n",
        "\n",
        "df['name'] = df['name'].apply(strip_character) # applying the our replacing special character functoion on on cilumn"
      ]
    },
    {
      "cell_type": "code",
      "execution_count": 68,
      "id": "52ae343f",
      "metadata": {
        "id": "52ae343f",
        "outputId": "81506ecd-911a-4e09-8e2e-06e99ed4e918",
        "colab": {
          "base_uri": "https://localhost:8080/",
          "height": 206
        }
      },
      "outputs": [
        {
          "output_type": "execute_result",
          "data": {
            "text/plain": [
              "               name   age        country  year  Date_Given      sports  \\\n",
              "0    Michael Phelps  23.0  United States  2008  2008-08-24    Swimming   \n",
              "1    Michael Phelps  19.0  United States  2004  2004-08-29    Swimming   \n",
              "2    Michael Phelps  27.0  United States  2012  2012-12-08    Swimming   \n",
              "3  Natalie Coughlin  25.0  United States  2008  2008-08-24    Swimming   \n",
              "4     Aleksey Nemov  24.0         Russia  2000  2000-01-10  Gymnastics   \n",
              "\n",
              "   gold_medal  silver_medal  brone_medal  total_medal  \n",
              "0           8             0            0            8  \n",
              "1           6             0            2            8  \n",
              "2           4             2            0            6  \n",
              "3           1             2            3            6  \n",
              "4           2             1            3            6  "
            ],
            "text/html": [
              "\n",
              "  <div id=\"df-e13be5da-9cc1-444a-8fc2-294e8304cbe6\">\n",
              "    <div class=\"colab-df-container\">\n",
              "      <div>\n",
              "<style scoped>\n",
              "    .dataframe tbody tr th:only-of-type {\n",
              "        vertical-align: middle;\n",
              "    }\n",
              "\n",
              "    .dataframe tbody tr th {\n",
              "        vertical-align: top;\n",
              "    }\n",
              "\n",
              "    .dataframe thead th {\n",
              "        text-align: right;\n",
              "    }\n",
              "</style>\n",
              "<table border=\"1\" class=\"dataframe\">\n",
              "  <thead>\n",
              "    <tr style=\"text-align: right;\">\n",
              "      <th></th>\n",
              "      <th>name</th>\n",
              "      <th>age</th>\n",
              "      <th>country</th>\n",
              "      <th>year</th>\n",
              "      <th>Date_Given</th>\n",
              "      <th>sports</th>\n",
              "      <th>gold_medal</th>\n",
              "      <th>silver_medal</th>\n",
              "      <th>brone_medal</th>\n",
              "      <th>total_medal</th>\n",
              "    </tr>\n",
              "  </thead>\n",
              "  <tbody>\n",
              "    <tr>\n",
              "      <th>0</th>\n",
              "      <td>Michael Phelps</td>\n",
              "      <td>23.0</td>\n",
              "      <td>United States</td>\n",
              "      <td>2008</td>\n",
              "      <td>2008-08-24</td>\n",
              "      <td>Swimming</td>\n",
              "      <td>8</td>\n",
              "      <td>0</td>\n",
              "      <td>0</td>\n",
              "      <td>8</td>\n",
              "    </tr>\n",
              "    <tr>\n",
              "      <th>1</th>\n",
              "      <td>Michael Phelps</td>\n",
              "      <td>19.0</td>\n",
              "      <td>United States</td>\n",
              "      <td>2004</td>\n",
              "      <td>2004-08-29</td>\n",
              "      <td>Swimming</td>\n",
              "      <td>6</td>\n",
              "      <td>0</td>\n",
              "      <td>2</td>\n",
              "      <td>8</td>\n",
              "    </tr>\n",
              "    <tr>\n",
              "      <th>2</th>\n",
              "      <td>Michael Phelps</td>\n",
              "      <td>27.0</td>\n",
              "      <td>United States</td>\n",
              "      <td>2012</td>\n",
              "      <td>2012-12-08</td>\n",
              "      <td>Swimming</td>\n",
              "      <td>4</td>\n",
              "      <td>2</td>\n",
              "      <td>0</td>\n",
              "      <td>6</td>\n",
              "    </tr>\n",
              "    <tr>\n",
              "      <th>3</th>\n",
              "      <td>Natalie Coughlin</td>\n",
              "      <td>25.0</td>\n",
              "      <td>United States</td>\n",
              "      <td>2008</td>\n",
              "      <td>2008-08-24</td>\n",
              "      <td>Swimming</td>\n",
              "      <td>1</td>\n",
              "      <td>2</td>\n",
              "      <td>3</td>\n",
              "      <td>6</td>\n",
              "    </tr>\n",
              "    <tr>\n",
              "      <th>4</th>\n",
              "      <td>Aleksey Nemov</td>\n",
              "      <td>24.0</td>\n",
              "      <td>Russia</td>\n",
              "      <td>2000</td>\n",
              "      <td>2000-01-10</td>\n",
              "      <td>Gymnastics</td>\n",
              "      <td>2</td>\n",
              "      <td>1</td>\n",
              "      <td>3</td>\n",
              "      <td>6</td>\n",
              "    </tr>\n",
              "  </tbody>\n",
              "</table>\n",
              "</div>\n",
              "      <button class=\"colab-df-convert\" onclick=\"convertToInteractive('df-e13be5da-9cc1-444a-8fc2-294e8304cbe6')\"\n",
              "              title=\"Convert this dataframe to an interactive table.\"\n",
              "              style=\"display:none;\">\n",
              "        \n",
              "  <svg xmlns=\"http://www.w3.org/2000/svg\" height=\"24px\"viewBox=\"0 0 24 24\"\n",
              "       width=\"24px\">\n",
              "    <path d=\"M0 0h24v24H0V0z\" fill=\"none\"/>\n",
              "    <path d=\"M18.56 5.44l.94 2.06.94-2.06 2.06-.94-2.06-.94-.94-2.06-.94 2.06-2.06.94zm-11 1L8.5 8.5l.94-2.06 2.06-.94-2.06-.94L8.5 2.5l-.94 2.06-2.06.94zm10 10l.94 2.06.94-2.06 2.06-.94-2.06-.94-.94-2.06-.94 2.06-2.06.94z\"/><path d=\"M17.41 7.96l-1.37-1.37c-.4-.4-.92-.59-1.43-.59-.52 0-1.04.2-1.43.59L10.3 9.45l-7.72 7.72c-.78.78-.78 2.05 0 2.83L4 21.41c.39.39.9.59 1.41.59.51 0 1.02-.2 1.41-.59l7.78-7.78 2.81-2.81c.8-.78.8-2.07 0-2.86zM5.41 20L4 18.59l7.72-7.72 1.47 1.35L5.41 20z\"/>\n",
              "  </svg>\n",
              "      </button>\n",
              "      \n",
              "  <style>\n",
              "    .colab-df-container {\n",
              "      display:flex;\n",
              "      flex-wrap:wrap;\n",
              "      gap: 12px;\n",
              "    }\n",
              "\n",
              "    .colab-df-convert {\n",
              "      background-color: #E8F0FE;\n",
              "      border: none;\n",
              "      border-radius: 50%;\n",
              "      cursor: pointer;\n",
              "      display: none;\n",
              "      fill: #1967D2;\n",
              "      height: 32px;\n",
              "      padding: 0 0 0 0;\n",
              "      width: 32px;\n",
              "    }\n",
              "\n",
              "    .colab-df-convert:hover {\n",
              "      background-color: #E2EBFA;\n",
              "      box-shadow: 0px 1px 2px rgba(60, 64, 67, 0.3), 0px 1px 3px 1px rgba(60, 64, 67, 0.15);\n",
              "      fill: #174EA6;\n",
              "    }\n",
              "\n",
              "    [theme=dark] .colab-df-convert {\n",
              "      background-color: #3B4455;\n",
              "      fill: #D2E3FC;\n",
              "    }\n",
              "\n",
              "    [theme=dark] .colab-df-convert:hover {\n",
              "      background-color: #434B5C;\n",
              "      box-shadow: 0px 1px 3px 1px rgba(0, 0, 0, 0.15);\n",
              "      filter: drop-shadow(0px 1px 2px rgba(0, 0, 0, 0.3));\n",
              "      fill: #FFFFFF;\n",
              "    }\n",
              "  </style>\n",
              "\n",
              "      <script>\n",
              "        const buttonEl =\n",
              "          document.querySelector('#df-e13be5da-9cc1-444a-8fc2-294e8304cbe6 button.colab-df-convert');\n",
              "        buttonEl.style.display =\n",
              "          google.colab.kernel.accessAllowed ? 'block' : 'none';\n",
              "\n",
              "        async function convertToInteractive(key) {\n",
              "          const element = document.querySelector('#df-e13be5da-9cc1-444a-8fc2-294e8304cbe6');\n",
              "          const dataTable =\n",
              "            await google.colab.kernel.invokeFunction('convertToInteractive',\n",
              "                                                     [key], {});\n",
              "          if (!dataTable) return;\n",
              "\n",
              "          const docLinkHtml = 'Like what you see? Visit the ' +\n",
              "            '<a target=\"_blank\" href=https://colab.research.google.com/notebooks/data_table.ipynb>data table notebook</a>'\n",
              "            + ' to learn more about interactive tables.';\n",
              "          element.innerHTML = '';\n",
              "          dataTable['output_type'] = 'display_data';\n",
              "          await google.colab.output.renderOutput(dataTable, element);\n",
              "          const docLink = document.createElement('div');\n",
              "          docLink.innerHTML = docLinkHtml;\n",
              "          element.appendChild(docLink);\n",
              "        }\n",
              "      </script>\n",
              "    </div>\n",
              "  </div>\n",
              "  "
            ]
          },
          "metadata": {},
          "execution_count": 68
        }
      ],
      "source": [
        "df.head() # first 5 rows after removing special characters\n",
        " "
      ]
    },
    {
      "cell_type": "code",
      "execution_count": 69,
      "id": "419199fd",
      "metadata": {
        "id": "419199fd",
        "outputId": "10e63c14-174b-4bce-e0f3-3444749efa85",
        "colab": {
          "base_uri": "https://localhost:8080/"
        }
      },
      "outputs": [
        {
          "output_type": "stream",
          "name": "stdout",
          "text": [
            "<class 'pandas.core.frame.DataFrame'>\n",
            "Int64Index: 8613 entries, 0 to 8617\n",
            "Data columns (total 10 columns):\n",
            " #   Column        Non-Null Count  Dtype  \n",
            "---  ------        --------------  -----  \n",
            " 0   name          8613 non-null   object \n",
            " 1   age           8613 non-null   float64\n",
            " 2   country       8613 non-null   object \n",
            " 3   year          8613 non-null   int64  \n",
            " 4   Date_Given    8613 non-null   object \n",
            " 5   sports        8613 non-null   object \n",
            " 6   gold_medal    8613 non-null   int64  \n",
            " 7   silver_medal  8613 non-null   int64  \n",
            " 8   brone_medal   8613 non-null   int64  \n",
            " 9   total_medal   8613 non-null   int64  \n",
            "dtypes: float64(1), int64(5), object(4)\n",
            "memory usage: 740.2+ KB\n"
          ]
        }
      ],
      "source": [
        "df.info() # dataset information and datatype"
      ]
    },
    {
      "cell_type": "code",
      "execution_count": 70,
      "id": "61e51e54",
      "metadata": {
        "id": "61e51e54"
      },
      "outputs": [],
      "source": [
        "df=df.astype({'name':'category','age':'int','country':'category', 'sports':'category'})\n",
        "#converting name, country ,sports into category data type, age into int  "
      ]
    },
    {
      "cell_type": "code",
      "execution_count": 71,
      "id": "4db89b2a",
      "metadata": {
        "id": "4db89b2a",
        "outputId": "249a485f-af81-4993-e786-407457688dd0",
        "colab": {
          "base_uri": "https://localhost:8080/"
        }
      },
      "outputs": [
        {
          "output_type": "stream",
          "name": "stdout",
          "text": [
            "<class 'pandas.core.frame.DataFrame'>\n",
            "Int64Index: 8613 entries, 0 to 8617\n",
            "Data columns (total 10 columns):\n",
            " #   Column        Non-Null Count  Dtype   \n",
            "---  ------        --------------  -----   \n",
            " 0   name          8613 non-null   category\n",
            " 1   age           8613 non-null   int64   \n",
            " 2   country       8613 non-null   category\n",
            " 3   year          8613 non-null   int64   \n",
            " 4   Date_Given    8613 non-null   object  \n",
            " 5   sports        8613 non-null   category\n",
            " 6   gold_medal    8613 non-null   int64   \n",
            " 7   silver_medal  8613 non-null   int64   \n",
            " 8   brone_medal   8613 non-null   int64   \n",
            " 9   total_medal   8613 non-null   int64   \n",
            "dtypes: category(3), int64(6), object(1)\n",
            "memory usage: 890.7+ KB\n"
          ]
        }
      ],
      "source": [
        "df.info() # checking details aftre changing datatype"
      ]
    },
    {
      "cell_type": "code",
      "execution_count": 72,
      "id": "18eda99c",
      "metadata": {
        "id": "18eda99c",
        "outputId": "293bcc88-ab8d-4c36-cea0-048bde5b9925",
        "colab": {
          "base_uri": "https://localhost:8080/",
          "height": 394
        }
      },
      "outputs": [
        {
          "output_type": "execute_result",
          "data": {
            "text/plain": [
              "            name          age        country         year  Date_Given  \\\n",
              "count       8613  8613.000000           8613  8613.000000        8613   \n",
              "unique      6955          NaN            110          NaN           7   \n",
              "top     Wang Hao          NaN  United States          NaN  2008-08-24   \n",
              "freq           4          NaN           1109          NaN        1872   \n",
              "mean         NaN    26.405434            NaN  2005.975386         NaN   \n",
              "std          NaN     5.102118            NaN     4.288737         NaN   \n",
              "min          NaN    15.000000            NaN  2000.000000         NaN   \n",
              "25%          NaN    23.000000            NaN  2002.000000         NaN   \n",
              "50%          NaN    26.000000            NaN  2006.000000         NaN   \n",
              "75%          NaN    29.000000            NaN  2010.000000         NaN   \n",
              "max          NaN    61.000000            NaN  2012.000000         NaN   \n",
              "\n",
              "           sports   gold_medal  silver_medal  brone_medal  total_medal  \n",
              "count        8613  8613.000000   8613.000000  8613.000000  8613.000000  \n",
              "unique         49          NaN           NaN          NaN          NaN  \n",
              "top     Athletics          NaN           NaN          NaN          NaN  \n",
              "freq          687          NaN           NaN          NaN          NaN  \n",
              "mean          NaN     0.364914      0.362940     0.377917     1.105770  \n",
              "std           NaN     0.545436      0.511531     0.505069     0.409003  \n",
              "min           NaN     0.000000      0.000000     0.000000     1.000000  \n",
              "25%           NaN     0.000000      0.000000     0.000000     1.000000  \n",
              "50%           NaN     0.000000      0.000000     0.000000     1.000000  \n",
              "75%           NaN     1.000000      1.000000     1.000000     1.000000  \n",
              "max           NaN     8.000000      3.000000     3.000000     8.000000  "
            ],
            "text/html": [
              "\n",
              "  <div id=\"df-77a8022b-0d2c-4a01-8a67-3c67db6518e3\">\n",
              "    <div class=\"colab-df-container\">\n",
              "      <div>\n",
              "<style scoped>\n",
              "    .dataframe tbody tr th:only-of-type {\n",
              "        vertical-align: middle;\n",
              "    }\n",
              "\n",
              "    .dataframe tbody tr th {\n",
              "        vertical-align: top;\n",
              "    }\n",
              "\n",
              "    .dataframe thead th {\n",
              "        text-align: right;\n",
              "    }\n",
              "</style>\n",
              "<table border=\"1\" class=\"dataframe\">\n",
              "  <thead>\n",
              "    <tr style=\"text-align: right;\">\n",
              "      <th></th>\n",
              "      <th>name</th>\n",
              "      <th>age</th>\n",
              "      <th>country</th>\n",
              "      <th>year</th>\n",
              "      <th>Date_Given</th>\n",
              "      <th>sports</th>\n",
              "      <th>gold_medal</th>\n",
              "      <th>silver_medal</th>\n",
              "      <th>brone_medal</th>\n",
              "      <th>total_medal</th>\n",
              "    </tr>\n",
              "  </thead>\n",
              "  <tbody>\n",
              "    <tr>\n",
              "      <th>count</th>\n",
              "      <td>8613</td>\n",
              "      <td>8613.000000</td>\n",
              "      <td>8613</td>\n",
              "      <td>8613.000000</td>\n",
              "      <td>8613</td>\n",
              "      <td>8613</td>\n",
              "      <td>8613.000000</td>\n",
              "      <td>8613.000000</td>\n",
              "      <td>8613.000000</td>\n",
              "      <td>8613.000000</td>\n",
              "    </tr>\n",
              "    <tr>\n",
              "      <th>unique</th>\n",
              "      <td>6955</td>\n",
              "      <td>NaN</td>\n",
              "      <td>110</td>\n",
              "      <td>NaN</td>\n",
              "      <td>7</td>\n",
              "      <td>49</td>\n",
              "      <td>NaN</td>\n",
              "      <td>NaN</td>\n",
              "      <td>NaN</td>\n",
              "      <td>NaN</td>\n",
              "    </tr>\n",
              "    <tr>\n",
              "      <th>top</th>\n",
              "      <td>Wang Hao</td>\n",
              "      <td>NaN</td>\n",
              "      <td>United States</td>\n",
              "      <td>NaN</td>\n",
              "      <td>2008-08-24</td>\n",
              "      <td>Athletics</td>\n",
              "      <td>NaN</td>\n",
              "      <td>NaN</td>\n",
              "      <td>NaN</td>\n",
              "      <td>NaN</td>\n",
              "    </tr>\n",
              "    <tr>\n",
              "      <th>freq</th>\n",
              "      <td>4</td>\n",
              "      <td>NaN</td>\n",
              "      <td>1109</td>\n",
              "      <td>NaN</td>\n",
              "      <td>1872</td>\n",
              "      <td>687</td>\n",
              "      <td>NaN</td>\n",
              "      <td>NaN</td>\n",
              "      <td>NaN</td>\n",
              "      <td>NaN</td>\n",
              "    </tr>\n",
              "    <tr>\n",
              "      <th>mean</th>\n",
              "      <td>NaN</td>\n",
              "      <td>26.405434</td>\n",
              "      <td>NaN</td>\n",
              "      <td>2005.975386</td>\n",
              "      <td>NaN</td>\n",
              "      <td>NaN</td>\n",
              "      <td>0.364914</td>\n",
              "      <td>0.362940</td>\n",
              "      <td>0.377917</td>\n",
              "      <td>1.105770</td>\n",
              "    </tr>\n",
              "    <tr>\n",
              "      <th>std</th>\n",
              "      <td>NaN</td>\n",
              "      <td>5.102118</td>\n",
              "      <td>NaN</td>\n",
              "      <td>4.288737</td>\n",
              "      <td>NaN</td>\n",
              "      <td>NaN</td>\n",
              "      <td>0.545436</td>\n",
              "      <td>0.511531</td>\n",
              "      <td>0.505069</td>\n",
              "      <td>0.409003</td>\n",
              "    </tr>\n",
              "    <tr>\n",
              "      <th>min</th>\n",
              "      <td>NaN</td>\n",
              "      <td>15.000000</td>\n",
              "      <td>NaN</td>\n",
              "      <td>2000.000000</td>\n",
              "      <td>NaN</td>\n",
              "      <td>NaN</td>\n",
              "      <td>0.000000</td>\n",
              "      <td>0.000000</td>\n",
              "      <td>0.000000</td>\n",
              "      <td>1.000000</td>\n",
              "    </tr>\n",
              "    <tr>\n",
              "      <th>25%</th>\n",
              "      <td>NaN</td>\n",
              "      <td>23.000000</td>\n",
              "      <td>NaN</td>\n",
              "      <td>2002.000000</td>\n",
              "      <td>NaN</td>\n",
              "      <td>NaN</td>\n",
              "      <td>0.000000</td>\n",
              "      <td>0.000000</td>\n",
              "      <td>0.000000</td>\n",
              "      <td>1.000000</td>\n",
              "    </tr>\n",
              "    <tr>\n",
              "      <th>50%</th>\n",
              "      <td>NaN</td>\n",
              "      <td>26.000000</td>\n",
              "      <td>NaN</td>\n",
              "      <td>2006.000000</td>\n",
              "      <td>NaN</td>\n",
              "      <td>NaN</td>\n",
              "      <td>0.000000</td>\n",
              "      <td>0.000000</td>\n",
              "      <td>0.000000</td>\n",
              "      <td>1.000000</td>\n",
              "    </tr>\n",
              "    <tr>\n",
              "      <th>75%</th>\n",
              "      <td>NaN</td>\n",
              "      <td>29.000000</td>\n",
              "      <td>NaN</td>\n",
              "      <td>2010.000000</td>\n",
              "      <td>NaN</td>\n",
              "      <td>NaN</td>\n",
              "      <td>1.000000</td>\n",
              "      <td>1.000000</td>\n",
              "      <td>1.000000</td>\n",
              "      <td>1.000000</td>\n",
              "    </tr>\n",
              "    <tr>\n",
              "      <th>max</th>\n",
              "      <td>NaN</td>\n",
              "      <td>61.000000</td>\n",
              "      <td>NaN</td>\n",
              "      <td>2012.000000</td>\n",
              "      <td>NaN</td>\n",
              "      <td>NaN</td>\n",
              "      <td>8.000000</td>\n",
              "      <td>3.000000</td>\n",
              "      <td>3.000000</td>\n",
              "      <td>8.000000</td>\n",
              "    </tr>\n",
              "  </tbody>\n",
              "</table>\n",
              "</div>\n",
              "      <button class=\"colab-df-convert\" onclick=\"convertToInteractive('df-77a8022b-0d2c-4a01-8a67-3c67db6518e3')\"\n",
              "              title=\"Convert this dataframe to an interactive table.\"\n",
              "              style=\"display:none;\">\n",
              "        \n",
              "  <svg xmlns=\"http://www.w3.org/2000/svg\" height=\"24px\"viewBox=\"0 0 24 24\"\n",
              "       width=\"24px\">\n",
              "    <path d=\"M0 0h24v24H0V0z\" fill=\"none\"/>\n",
              "    <path d=\"M18.56 5.44l.94 2.06.94-2.06 2.06-.94-2.06-.94-.94-2.06-.94 2.06-2.06.94zm-11 1L8.5 8.5l.94-2.06 2.06-.94-2.06-.94L8.5 2.5l-.94 2.06-2.06.94zm10 10l.94 2.06.94-2.06 2.06-.94-2.06-.94-.94-2.06-.94 2.06-2.06.94z\"/><path d=\"M17.41 7.96l-1.37-1.37c-.4-.4-.92-.59-1.43-.59-.52 0-1.04.2-1.43.59L10.3 9.45l-7.72 7.72c-.78.78-.78 2.05 0 2.83L4 21.41c.39.39.9.59 1.41.59.51 0 1.02-.2 1.41-.59l7.78-7.78 2.81-2.81c.8-.78.8-2.07 0-2.86zM5.41 20L4 18.59l7.72-7.72 1.47 1.35L5.41 20z\"/>\n",
              "  </svg>\n",
              "      </button>\n",
              "      \n",
              "  <style>\n",
              "    .colab-df-container {\n",
              "      display:flex;\n",
              "      flex-wrap:wrap;\n",
              "      gap: 12px;\n",
              "    }\n",
              "\n",
              "    .colab-df-convert {\n",
              "      background-color: #E8F0FE;\n",
              "      border: none;\n",
              "      border-radius: 50%;\n",
              "      cursor: pointer;\n",
              "      display: none;\n",
              "      fill: #1967D2;\n",
              "      height: 32px;\n",
              "      padding: 0 0 0 0;\n",
              "      width: 32px;\n",
              "    }\n",
              "\n",
              "    .colab-df-convert:hover {\n",
              "      background-color: #E2EBFA;\n",
              "      box-shadow: 0px 1px 2px rgba(60, 64, 67, 0.3), 0px 1px 3px 1px rgba(60, 64, 67, 0.15);\n",
              "      fill: #174EA6;\n",
              "    }\n",
              "\n",
              "    [theme=dark] .colab-df-convert {\n",
              "      background-color: #3B4455;\n",
              "      fill: #D2E3FC;\n",
              "    }\n",
              "\n",
              "    [theme=dark] .colab-df-convert:hover {\n",
              "      background-color: #434B5C;\n",
              "      box-shadow: 0px 1px 3px 1px rgba(0, 0, 0, 0.15);\n",
              "      filter: drop-shadow(0px 1px 2px rgba(0, 0, 0, 0.3));\n",
              "      fill: #FFFFFF;\n",
              "    }\n",
              "  </style>\n",
              "\n",
              "      <script>\n",
              "        const buttonEl =\n",
              "          document.querySelector('#df-77a8022b-0d2c-4a01-8a67-3c67db6518e3 button.colab-df-convert');\n",
              "        buttonEl.style.display =\n",
              "          google.colab.kernel.accessAllowed ? 'block' : 'none';\n",
              "\n",
              "        async function convertToInteractive(key) {\n",
              "          const element = document.querySelector('#df-77a8022b-0d2c-4a01-8a67-3c67db6518e3');\n",
              "          const dataTable =\n",
              "            await google.colab.kernel.invokeFunction('convertToInteractive',\n",
              "                                                     [key], {});\n",
              "          if (!dataTable) return;\n",
              "\n",
              "          const docLinkHtml = 'Like what you see? Visit the ' +\n",
              "            '<a target=\"_blank\" href=https://colab.research.google.com/notebooks/data_table.ipynb>data table notebook</a>'\n",
              "            + ' to learn more about interactive tables.';\n",
              "          element.innerHTML = '';\n",
              "          dataTable['output_type'] = 'display_data';\n",
              "          await google.colab.output.renderOutput(dataTable, element);\n",
              "          const docLink = document.createElement('div');\n",
              "          docLink.innerHTML = docLinkHtml;\n",
              "          element.appendChild(docLink);\n",
              "        }\n",
              "      </script>\n",
              "    </div>\n",
              "  </div>\n",
              "  "
            ]
          },
          "metadata": {},
          "execution_count": 72
        }
      ],
      "source": [
        "df.describe(include='all') # all 5 points decription of data set"
      ]
    },
    {
      "cell_type": "code",
      "execution_count": 73,
      "id": "6d3cf291",
      "metadata": {
        "id": "6d3cf291"
      },
      "outputs": [],
      "source": [
        "# dividing columns on the basis of datatype\n",
        "col_num=df.select_dtypes(include='number').columns\n",
        "col_cat=df.select_dtypes(include='category').columns"
      ]
    },
    {
      "cell_type": "markdown",
      "id": "581b06d4",
      "metadata": {
        "id": "581b06d4"
      },
      "source": [
        "##### Perform data visualization techniques to appropriate columns and explain them.  "
      ]
    },
    {
      "cell_type": "code",
      "execution_count": 74,
      "id": "44d644f9",
      "metadata": {
        "id": "44d644f9",
        "outputId": "c2b52b9f-6fc8-4543-fbaa-faa127867b56",
        "colab": {
          "base_uri": "https://localhost:8080/",
          "height": 353
        }
      },
      "outputs": [
        {
          "output_type": "display_data",
          "data": {
            "text/plain": [
              "<Figure size 432x288 with 1 Axes>"
            ],
            "image/png": "[encoded data removed]"
          },
          "metadata": {
            "needs_background": "light"
          }
        }
      ],
      "source": [
        "# the top 10 conturies which produced more athletes\n",
        "\n",
        "#grouping the dataframe with country and counting the name column.\n",
        "#sorted the value  and showed top 10 records\n",
        "athletes_each_country = df.groupby('country')['name'].count().reset_index().sort_values(\"name\", ascending=False).head(10)\n",
        "\n",
        "\n",
        "# show the bar graph\n",
        "plt.bar(athletes_each_country.country, athletes_each_country.name) \n",
        "plt.xlabel('Country')\n",
        "plt.ylabel('No. of athletes')\n",
        "plt.xticks(rotation=75)\n",
        "plt.title('Top 10 countries produced the most athletes');"
      ]
    },
    {
      "cell_type": "markdown",
      "id": "2d38f4c0",
      "metadata": {
        "id": "2d38f4c0"
      },
      "source": [
        "        Infrence: USA send most athletes in olympics "
      ]
    },
    {
      "cell_type": "code",
      "source": [
        "# top 20 countries won the medals\n",
        "\n",
        "#grouping the dataframe by country and showing the sum of the total_medal,gold_medal,silver and broze columns.\n",
        "medals_by_country1=df.groupby('country')['total_medal','gold_medal','silver_medal','brone_medal'].sum().sort_values(by='total_medal',ascending=False)[:20]\n",
        "\n",
        "# visualizing the dataset using bar plot.\n",
        "medals_by_country1.plot(kind='bar', figsize=(18,8),title='Top 20 countries won the most medals');\n"
      ],
      "metadata": {
        "colab": {
          "base_uri": "https://localhost:8080/",
          "height": 570
        },
        "id": "IvzKJwg1AHGX",
        "outputId": "09f0aeca-aa45-460d-d814-3470db9f3e4d"
      },
      "id": "IvzKJwg1AHGX",
      "execution_count": 75,
      "outputs": [
        {
          "output_type": "display_data",
          "data": {
            "text/plain": [
              "<Figure size 1296x576 with 1 Axes>"
            ],
            "image/png": "[encoded data removed]"
          },
          "metadata": {
            "needs_background": "light"
          }
        }
      ]
    },
    {
      "cell_type": "code",
      "execution_count": 76,
      "id": "53f26640",
      "metadata": {
        "id": "53f26640",
        "outputId": "1f9e4717-1fb8-4897-ecb1-ece92d3011c9",
        "colab": {
          "base_uri": "https://localhost:8080/",
          "height": 471
        }
      },
      "outputs": [
        {
          "output_type": "execute_result",
          "data": {
            "text/plain": [
              "<matplotlib.axes._subplots.AxesSubplot at 0x7f7595d3ae90>"
            ]
          },
          "metadata": {},
          "execution_count": 76
        },
        {
          "output_type": "display_data",
          "data": {
            "text/plain": [
              "<Figure size 1440x432 with 1 Axes>"
            ],
            "image/png": "[encoded data removed]"
          },
          "metadata": {
            "needs_background": "light"
          }
        }
      ],
      "source": [
        "# top sports in which medals got won\n",
        "\n",
        "# grouping the dataframe using sports and calculating sum of the total_medal column \n",
        "medals_in_sports=df.groupby('sports')['total_medal'].sum().sort_values(ascending=False).head(20)\n",
        "\n",
        "# visualizing the result set using bar plot\n",
        "medals_in_sports.plot(kind='bar', figsize=(20,6),title='Top 20 sports won the most medals')\n"
      ]
    },
    {
      "cell_type": "markdown",
      "id": "f0b0adc4",
      "metadata": {
        "id": "f0b0adc4"
      },
      "source": [
        "##### Please check if the age dataset is skewed or symmetric. Based on results perform transformation."
      ]
    },
    {
      "cell_type": "code",
      "execution_count": 77,
      "id": "b6f0fbd4",
      "metadata": {
        "id": "b6f0fbd4",
        "outputId": "75960d76-7d6f-428d-9132-b23b95bfc9bc",
        "colab": {
          "base_uri": "https://localhost:8080/",
          "height": 283
        }
      },
      "outputs": [
        {
          "output_type": "display_data",
          "data": {
            "text/plain": [
              "<Figure size 432x288 with 1 Axes>"
            ],
            "image/png": "[encoded data removed]"
          },
          "metadata": {
            "needs_background": "light"
          }
        }
      ],
      "source": [
        "# for checking the skewness with visualization i am using histogram plot with kde, where i can easily see the distribution\n",
        "\n",
        "# i am checking the distribution for feature age with kde  \n",
        "\n",
        "sns.histplot(x=df['age'],kde=True, color='b', edgecolor='green',)\n",
        "plt.axvline(x=df['age'].mean(),ls='--',color='red',alpha=0.5,Label='Mean')\n",
        "plt.axvline(x=df['age'].median(),color='blue',alpha=0.5,label='Median') \n",
        "plt.xlabel( 'Age', fontsize=14)\n",
        "plt.ylabel('Count', fontsize=14) \n",
        "plt.legend()\n",
        "plt.show()"
      ]
    },
    {
      "cell_type": "markdown",
      "source": [
        "Infrence: the distribution seems right skewed."
      ],
      "metadata": {
        "id": "7-kyV9YMWhor"
      },
      "id": "7-kyV9YMWhor"
    },
    {
      "cell_type": "code",
      "execution_count": 78,
      "id": "30c25421",
      "metadata": {
        "id": "30c25421",
        "outputId": "6606f055-e881-465d-8ab6-133979e50f70",
        "colab": {
          "base_uri": "https://localhost:8080/"
        }
      },
      "outputs": [
        {
          "output_type": "execute_result",
          "data": {
            "text/plain": [
              "year           -0.001129\n",
              "brone_medal     0.762090\n",
              "age             0.859007\n",
              "silver_medal    0.955039\n",
              "gold_medal      1.638839\n",
              "total_medal     5.580939\n",
              "dtype: float64"
            ]
          },
          "metadata": {},
          "execution_count": 78
        }
      ],
      "source": [
        "#checking the skewness for numerical fearures in numbers\n",
        "df.skew(numeric_only=True).sort_values()"
      ]
    },
    {
      "cell_type": "code",
      "execution_count": 79,
      "id": "1946ad58",
      "metadata": {
        "id": "1946ad58",
        "outputId": "f190293e-7127-47ef-b078-87402a85a915",
        "colab": {
          "base_uri": "https://localhost:8080/",
          "height": 300
        }
      },
      "outputs": [
        {
          "output_type": "execute_result",
          "data": {
            "text/plain": [
              "<matplotlib.axes._subplots.AxesSubplot at 0x7f75952873d0>"
            ]
          },
          "metadata": {},
          "execution_count": 79
        },
        {
          "output_type": "display_data",
          "data": {
            "text/plain": [
              "<Figure size 576x216 with 1 Axes>"
            ],
            "image/png": "[encoded data removed]"
          },
          "metadata": {
            "needs_background": "light"
          }
        }
      ],
      "source": [
        "# plotting the features with skeness using bar plot.\n",
        "df.skew(numeric_only=True).sort_values().plot(kind='bar',figsize=(8,3),title='Skewness for numerical columns')"
      ]
    },
    {
      "cell_type": "markdown",
      "id": "6571e5f7",
      "metadata": {
        "id": "6571e5f7"
      },
      "source": [
        " Infrence:\n",
        " \n",
        "    fairly symmetrical\t-0.5 & 0.5\t            \n",
        "    moderately skewed\t-1.0 & -0.5 or 0.5 & 1\t \n",
        "    highly skewed    \t> -1 0r > 1\t            \n",
        "    \n",
        "    for AGE feature skewness is 0.8 so its moderately skewed.\n",
        "    feature is modetraly skewed so we are going to check the transformation using log and sqrt transformation."
      ]
    },
    {
      "cell_type": "code",
      "execution_count": 80,
      "id": "890f5c7f",
      "metadata": {
        "id": "890f5c7f",
        "outputId": "08b713c1-a741-41e5-e7d8-40a84ca972dc",
        "colab": {
          "base_uri": "https://localhost:8080/",
          "height": 338
        }
      },
      "outputs": [
        {
          "output_type": "stream",
          "name": "stdout",
          "text": [
            "skewness in age \n",
            " before: 0.8590070668484233 \n",
            " after:  0.1548420625269884\n"
          ]
        },
        {
          "output_type": "display_data",
          "data": {
            "text/plain": [
              "<Figure size 432x288 with 1 Axes>"
            ],
            "image/png": "[encoded data removed]"
          },
          "metadata": {
            "needs_background": "light"
          }
        }
      ],
      "source": [
        "def log_transformation(column): # function for checking log transformation\n",
        "    before =df[column].skew()\n",
        "    after=np.log(df[column]).skew()\n",
        "    print(f'skewness in {column} \\n before: {before} \\n after:  {after}')\n",
        "    sns.distplot(np.log(df[column]+1))\n",
        "    plt.axvline(x=np.log(df[column]+1).mean(),ls='--',color='red',alpha=0.5,Label='Mean')\n",
        "    plt.axvline(x=np.log(df[column]+1).median(),color='blue',alpha=0.5,label='Median') \n",
        "    plt.xlabel( column, fontsize=14)\n",
        "    plt.ylabel('Count', fontsize=14)\n",
        "    plt.legend()\n",
        "    plt.show() \n",
        "    \n",
        "log_transformation('age')"
      ]
    },
    {
      "cell_type": "markdown",
      "id": "b003b8db",
      "metadata": {
        "id": "b003b8db"
      },
      "source": [
        "        Infrence: Log transformation makes the distribution fairly symmetrical"
      ]
    },
    {
      "cell_type": "code",
      "execution_count": 81,
      "id": "0bae9095",
      "metadata": {
        "id": "0bae9095",
        "outputId": "c7b2b174-ceec-4570-a8c1-75a26f58e934",
        "colab": {
          "base_uri": "https://localhost:8080/",
          "height": 338
        }
      },
      "outputs": [
        {
          "output_type": "stream",
          "name": "stdout",
          "text": [
            "skewness in age \n",
            " before: 0.8590070668484233 \n",
            " after:  0.4898373817405729\n"
          ]
        },
        {
          "output_type": "display_data",
          "data": {
            "text/plain": [
              "<Figure size 432x288 with 1 Axes>"
            ],
            "image/png": "[encoded data removed]"
          },
          "metadata": {
            "needs_background": "light"
          }
        }
      ],
      "source": [
        "def sqrt_transformation(column): # function for checking log transformation\n",
        "    before =df[column].skew()\n",
        "    after=np.sqrt(df[column]).skew()\n",
        "    print(f'skewness in {column} \\n before: {before} \\n after:  {after}')\n",
        "    sns.distplot(np.sqrt(df[column]))\n",
        "    plt.axvline(x=np.sqrt(df[column]).mean(),ls='--',color='red',alpha=0.5,Label='Mean')\n",
        "    plt.axvline(x=np.sqrt(df[column]).median(),color='blue',alpha=0.5,label='Median') \n",
        "    plt.xlabel( column, fontsize=14)\n",
        "    plt.ylabel('Count', fontsize=14)\n",
        "    plt.legend()\n",
        "    plt.show() \n",
        "    \n",
        "sqrt_transformation('age')\n"
      ]
    },
    {
      "cell_type": "markdown",
      "id": "49989550",
      "metadata": {
        "id": "49989550"
      },
      "source": [
        "        Infrence:   the age column is symmetric after using sqrt transformation too.\n",
        "          "
      ]
    },
    {
      "cell_type": "markdown",
      "id": "2fd3d983",
      "metadata": {
        "id": "2fd3d983"
      },
      "source": [
        "    Infrence:  As we can see after applying log,SQRT transformation age column becomes symmetrical.\n",
        "               So for age column log transformation make the data more symmetry so log transformation is more appropriiate."
      ]
    },
    {
      "cell_type": "markdown",
      "id": "f35a1136",
      "metadata": {
        "id": "f35a1136"
      },
      "source": [
        "##### Please perform appropriate numerical measures on each column and report them accordingly."
      ]
    },
    {
      "cell_type": "code",
      "execution_count": 83,
      "id": "4006765c",
      "metadata": {
        "id": "4006765c",
        "outputId": "4c9072ed-de00-421f-f210-66a840d3dd44",
        "colab": {
          "base_uri": "https://localhost:8080/",
          "height": 175
        }
      },
      "outputs": [
        {
          "output_type": "execute_result",
          "data": {
            "text/plain": [
              "            name        country     sports\n",
              "count       8613           8613       8613\n",
              "unique      6955            110         49\n",
              "top     Wang Hao  United States  Athletics\n",
              "freq           4           1109        687"
            ],
            "text/html": [
              "\n",
              "  <div id=\"df-9722ff8b-1f06-4f2e-9c2a-1bda43ba4d9a\">\n",
              "    <div class=\"colab-df-container\">\n",
              "      <div>\n",
              "<style scoped>\n",
              "    .dataframe tbody tr th:only-of-type {\n",
              "        vertical-align: middle;\n",
              "    }\n",
              "\n",
              "    .dataframe tbody tr th {\n",
              "        vertical-align: top;\n",
              "    }\n",
              "\n",
              "    .dataframe thead th {\n",
              "        text-align: right;\n",
              "    }\n",
              "</style>\n",
              "<table border=\"1\" class=\"dataframe\">\n",
              "  <thead>\n",
              "    <tr style=\"text-align: right;\">\n",
              "      <th></th>\n",
              "      <th>name</th>\n",
              "      <th>country</th>\n",
              "      <th>sports</th>\n",
              "    </tr>\n",
              "  </thead>\n",
              "  <tbody>\n",
              "    <tr>\n",
              "      <th>count</th>\n",
              "      <td>8613</td>\n",
              "      <td>8613</td>\n",
              "      <td>8613</td>\n",
              "    </tr>\n",
              "    <tr>\n",
              "      <th>unique</th>\n",
              "      <td>6955</td>\n",
              "      <td>110</td>\n",
              "      <td>49</td>\n",
              "    </tr>\n",
              "    <tr>\n",
              "      <th>top</th>\n",
              "      <td>Wang Hao</td>\n",
              "      <td>United States</td>\n",
              "      <td>Athletics</td>\n",
              "    </tr>\n",
              "    <tr>\n",
              "      <th>freq</th>\n",
              "      <td>4</td>\n",
              "      <td>1109</td>\n",
              "      <td>687</td>\n",
              "    </tr>\n",
              "  </tbody>\n",
              "</table>\n",
              "</div>\n",
              "      <button class=\"colab-df-convert\" onclick=\"convertToInteractive('df-9722ff8b-1f06-4f2e-9c2a-1bda43ba4d9a')\"\n",
              "              title=\"Convert this dataframe to an interactive table.\"\n",
              "              style=\"display:none;\">\n",
              "        \n",
              "  <svg xmlns=\"http://www.w3.org/2000/svg\" height=\"24px\"viewBox=\"0 0 24 24\"\n",
              "       width=\"24px\">\n",
              "    <path d=\"M0 0h24v24H0V0z\" fill=\"none\"/>\n",
              "    <path d=\"M18.56 5.44l.94 2.06.94-2.06 2.06-.94-2.06-.94-.94-2.06-.94 2.06-2.06.94zm-11 1L8.5 8.5l.94-2.06 2.06-.94-2.06-.94L8.5 2.5l-.94 2.06-2.06.94zm10 10l.94 2.06.94-2.06 2.06-.94-2.06-.94-.94-2.06-.94 2.06-2.06.94z\"/><path d=\"M17.41 7.96l-1.37-1.37c-.4-.4-.92-.59-1.43-.59-.52 0-1.04.2-1.43.59L10.3 9.45l-7.72 7.72c-.78.78-.78 2.05 0 2.83L4 21.41c.39.39.9.59 1.41.59.51 0 1.02-.2 1.41-.59l7.78-7.78 2.81-2.81c.8-.78.8-2.07 0-2.86zM5.41 20L4 18.59l7.72-7.72 1.47 1.35L5.41 20z\"/>\n",
              "  </svg>\n",
              "      </button>\n",
              "      \n",
              "  <style>\n",
              "    .colab-df-container {\n",
              "      display:flex;\n",
              "      flex-wrap:wrap;\n",
              "      gap: 12px;\n",
              "    }\n",
              "\n",
              "    .colab-df-convert {\n",
              "      background-color: #E8F0FE;\n",
              "      border: none;\n",
              "      border-radius: 50%;\n",
              "      cursor: pointer;\n",
              "      display: none;\n",
              "      fill: #1967D2;\n",
              "      height: 32px;\n",
              "      padding: 0 0 0 0;\n",
              "      width: 32px;\n",
              "    }\n",
              "\n",
              "    .colab-df-convert:hover {\n",
              "      background-color: #E2EBFA;\n",
              "      box-shadow: 0px 1px 2px rgba(60, 64, 67, 0.3), 0px 1px 3px 1px rgba(60, 64, 67, 0.15);\n",
              "      fill: #174EA6;\n",
              "    }\n",
              "\n",
              "    [theme=dark] .colab-df-convert {\n",
              "      background-color: #3B4455;\n",
              "      fill: #D2E3FC;\n",
              "    }\n",
              "\n",
              "    [theme=dark] .colab-df-convert:hover {\n",
              "      background-color: #434B5C;\n",
              "      box-shadow: 0px 1px 3px 1px rgba(0, 0, 0, 0.15);\n",
              "      filter: drop-shadow(0px 1px 2px rgba(0, 0, 0, 0.3));\n",
              "      fill: #FFFFFF;\n",
              "    }\n",
              "  </style>\n",
              "\n",
              "      <script>\n",
              "        const buttonEl =\n",
              "          document.querySelector('#df-9722ff8b-1f06-4f2e-9c2a-1bda43ba4d9a button.colab-df-convert');\n",
              "        buttonEl.style.display =\n",
              "          google.colab.kernel.accessAllowed ? 'block' : 'none';\n",
              "\n",
              "        async function convertToInteractive(key) {\n",
              "          const element = document.querySelector('#df-9722ff8b-1f06-4f2e-9c2a-1bda43ba4d9a');\n",
              "          const dataTable =\n",
              "            await google.colab.kernel.invokeFunction('convertToInteractive',\n",
              "                                                     [key], {});\n",
              "          if (!dataTable) return;\n",
              "\n",
              "          const docLinkHtml = 'Like what you see? Visit the ' +\n",
              "            '<a target=\"_blank\" href=https://colab.research.google.com/notebooks/data_table.ipynb>data table notebook</a>'\n",
              "            + ' to learn more about interactive tables.';\n",
              "          element.innerHTML = '';\n",
              "          dataTable['output_type'] = 'display_data';\n",
              "          await google.colab.output.renderOutput(dataTable, element);\n",
              "          const docLink = document.createElement('div');\n",
              "          docLink.innerHTML = docLinkHtml;\n",
              "          element.appendChild(docLink);\n",
              "        }\n",
              "      </script>\n",
              "    </div>\n",
              "  </div>\n",
              "  "
            ]
          },
          "metadata": {},
          "execution_count": 83
        }
      ],
      "source": [
        "#numerical measure for the category columns\n",
        "df.describe(include='category')"
      ]
    },
    {
      "cell_type": "code",
      "execution_count": 83,
      "id": "da8c1266",
      "metadata": {
        "id": "da8c1266"
      },
      "outputs": [],
      "source": [
        ""
      ]
    },
    {
      "cell_type": "code",
      "execution_count": 84,
      "id": "67f05af7",
      "metadata": {
        "id": "67f05af7",
        "outputId": "a8ce335c-71a6-4bc3-819f-448192144dab",
        "colab": {
          "base_uri": "https://localhost:8080/",
          "height": 300
        }
      },
      "outputs": [
        {
          "output_type": "execute_result",
          "data": {
            "text/plain": [
              "               age         year   gold_medal  silver_medal  brone_medal  \\\n",
              "count  8613.000000  8613.000000  8613.000000   8613.000000  8613.000000   \n",
              "mean     26.405434  2005.975386     0.364914      0.362940     0.377917   \n",
              "std       5.102118     4.288737     0.545436      0.511531     0.505069   \n",
              "min      15.000000  2000.000000     0.000000      0.000000     0.000000   \n",
              "25%      23.000000  2002.000000     0.000000      0.000000     0.000000   \n",
              "50%      26.000000  2006.000000     0.000000      0.000000     0.000000   \n",
              "75%      29.000000  2010.000000     1.000000      1.000000     1.000000   \n",
              "max      61.000000  2012.000000     8.000000      3.000000     3.000000   \n",
              "\n",
              "       total_medal  \n",
              "count  8613.000000  \n",
              "mean      1.105770  \n",
              "std       0.409003  \n",
              "min       1.000000  \n",
              "25%       1.000000  \n",
              "50%       1.000000  \n",
              "75%       1.000000  \n",
              "max       8.000000  "
            ],
            "text/html": [
              "\n",
              "  <div id=\"df-bf785dc8-8cdb-4504-8eaa-1c25789f1a41\">\n",
              "    <div class=\"colab-df-container\">\n",
              "      <div>\n",
              "<style scoped>\n",
              "    .dataframe tbody tr th:only-of-type {\n",
              "        vertical-align: middle;\n",
              "    }\n",
              "\n",
              "    .dataframe tbody tr th {\n",
              "        vertical-align: top;\n",
              "    }\n",
              "\n",
              "    .dataframe thead th {\n",
              "        text-align: right;\n",
              "    }\n",
              "</style>\n",
              "<table border=\"1\" class=\"dataframe\">\n",
              "  <thead>\n",
              "    <tr style=\"text-align: right;\">\n",
              "      <th></th>\n",
              "      <th>age</th>\n",
              "      <th>year</th>\n",
              "      <th>gold_medal</th>\n",
              "      <th>silver_medal</th>\n",
              "      <th>brone_medal</th>\n",
              "      <th>total_medal</th>\n",
              "    </tr>\n",
              "  </thead>\n",
              "  <tbody>\n",
              "    <tr>\n",
              "      <th>count</th>\n",
              "      <td>8613.000000</td>\n",
              "      <td>8613.000000</td>\n",
              "      <td>8613.000000</td>\n",
              "      <td>8613.000000</td>\n",
              "      <td>8613.000000</td>\n",
              "      <td>8613.000000</td>\n",
              "    </tr>\n",
              "    <tr>\n",
              "      <th>mean</th>\n",
              "      <td>26.405434</td>\n",
              "      <td>2005.975386</td>\n",
              "      <td>0.364914</td>\n",
              "      <td>0.362940</td>\n",
              "      <td>0.377917</td>\n",
              "      <td>1.105770</td>\n",
              "    </tr>\n",
              "    <tr>\n",
              "      <th>std</th>\n",
              "      <td>5.102118</td>\n",
              "      <td>4.288737</td>\n",
              "      <td>0.545436</td>\n",
              "      <td>0.511531</td>\n",
              "      <td>0.505069</td>\n",
              "      <td>0.409003</td>\n",
              "    </tr>\n",
              "    <tr>\n",
              "      <th>min</th>\n",
              "      <td>15.000000</td>\n",
              "      <td>2000.000000</td>\n",
              "      <td>0.000000</td>\n",
              "      <td>0.000000</td>\n",
              "      <td>0.000000</td>\n",
              "      <td>1.000000</td>\n",
              "    </tr>\n",
              "    <tr>\n",
              "      <th>25%</th>\n",
              "      <td>23.000000</td>\n",
              "      <td>2002.000000</td>\n",
              "      <td>0.000000</td>\n",
              "      <td>0.000000</td>\n",
              "      <td>0.000000</td>\n",
              "      <td>1.000000</td>\n",
              "    </tr>\n",
              "    <tr>\n",
              "      <th>50%</th>\n",
              "      <td>26.000000</td>\n",
              "      <td>2006.000000</td>\n",
              "      <td>0.000000</td>\n",
              "      <td>0.000000</td>\n",
              "      <td>0.000000</td>\n",
              "      <td>1.000000</td>\n",
              "    </tr>\n",
              "    <tr>\n",
              "      <th>75%</th>\n",
              "      <td>29.000000</td>\n",
              "      <td>2010.000000</td>\n",
              "      <td>1.000000</td>\n",
              "      <td>1.000000</td>\n",
              "      <td>1.000000</td>\n",
              "      <td>1.000000</td>\n",
              "    </tr>\n",
              "    <tr>\n",
              "      <th>max</th>\n",
              "      <td>61.000000</td>\n",
              "      <td>2012.000000</td>\n",
              "      <td>8.000000</td>\n",
              "      <td>3.000000</td>\n",
              "      <td>3.000000</td>\n",
              "      <td>8.000000</td>\n",
              "    </tr>\n",
              "  </tbody>\n",
              "</table>\n",
              "</div>\n",
              "      <button class=\"colab-df-convert\" onclick=\"convertToInteractive('df-bf785dc8-8cdb-4504-8eaa-1c25789f1a41')\"\n",
              "              title=\"Convert this dataframe to an interactive table.\"\n",
              "              style=\"display:none;\">\n",
              "        \n",
              "  <svg xmlns=\"http://www.w3.org/2000/svg\" height=\"24px\"viewBox=\"0 0 24 24\"\n",
              "       width=\"24px\">\n",
              "    <path d=\"M0 0h24v24H0V0z\" fill=\"none\"/>\n",
              "    <path d=\"M18.56 5.44l.94 2.06.94-2.06 2.06-.94-2.06-.94-.94-2.06-.94 2.06-2.06.94zm-11 1L8.5 8.5l.94-2.06 2.06-.94-2.06-.94L8.5 2.5l-.94 2.06-2.06.94zm10 10l.94 2.06.94-2.06 2.06-.94-2.06-.94-.94-2.06-.94 2.06-2.06.94z\"/><path d=\"M17.41 7.96l-1.37-1.37c-.4-.4-.92-.59-1.43-.59-.52 0-1.04.2-1.43.59L10.3 9.45l-7.72 7.72c-.78.78-.78 2.05 0 2.83L4 21.41c.39.39.9.59 1.41.59.51 0 1.02-.2 1.41-.59l7.78-7.78 2.81-2.81c.8-.78.8-2.07 0-2.86zM5.41 20L4 18.59l7.72-7.72 1.47 1.35L5.41 20z\"/>\n",
              "  </svg>\n",
              "      </button>\n",
              "      \n",
              "  <style>\n",
              "    .colab-df-container {\n",
              "      display:flex;\n",
              "      flex-wrap:wrap;\n",
              "      gap: 12px;\n",
              "    }\n",
              "\n",
              "    .colab-df-convert {\n",
              "      background-color: #E8F0FE;\n",
              "      border: none;\n",
              "      border-radius: 50%;\n",
              "      cursor: pointer;\n",
              "      display: none;\n",
              "      fill: #1967D2;\n",
              "      height: 32px;\n",
              "      padding: 0 0 0 0;\n",
              "      width: 32px;\n",
              "    }\n",
              "\n",
              "    .colab-df-convert:hover {\n",
              "      background-color: #E2EBFA;\n",
              "      box-shadow: 0px 1px 2px rgba(60, 64, 67, 0.3), 0px 1px 3px 1px rgba(60, 64, 67, 0.15);\n",
              "      fill: #174EA6;\n",
              "    }\n",
              "\n",
              "    [theme=dark] .colab-df-convert {\n",
              "      background-color: #3B4455;\n",
              "      fill: #D2E3FC;\n",
              "    }\n",
              "\n",
              "    [theme=dark] .colab-df-convert:hover {\n",
              "      background-color: #434B5C;\n",
              "      box-shadow: 0px 1px 3px 1px rgba(0, 0, 0, 0.15);\n",
              "      filter: drop-shadow(0px 1px 2px rgba(0, 0, 0, 0.3));\n",
              "      fill: #FFFFFF;\n",
              "    }\n",
              "  </style>\n",
              "\n",
              "      <script>\n",
              "        const buttonEl =\n",
              "          document.querySelector('#df-bf785dc8-8cdb-4504-8eaa-1c25789f1a41 button.colab-df-convert');\n",
              "        buttonEl.style.display =\n",
              "          google.colab.kernel.accessAllowed ? 'block' : 'none';\n",
              "\n",
              "        async function convertToInteractive(key) {\n",
              "          const element = document.querySelector('#df-bf785dc8-8cdb-4504-8eaa-1c25789f1a41');\n",
              "          const dataTable =\n",
              "            await google.colab.kernel.invokeFunction('convertToInteractive',\n",
              "                                                     [key], {});\n",
              "          if (!dataTable) return;\n",
              "\n",
              "          const docLinkHtml = 'Like what you see? Visit the ' +\n",
              "            '<a target=\"_blank\" href=https://colab.research.google.com/notebooks/data_table.ipynb>data table notebook</a>'\n",
              "            + ' to learn more about interactive tables.';\n",
              "          element.innerHTML = '';\n",
              "          dataTable['output_type'] = 'display_data';\n",
              "          await google.colab.output.renderOutput(dataTable, element);\n",
              "          const docLink = document.createElement('div');\n",
              "          docLink.innerHTML = docLinkHtml;\n",
              "          element.appendChild(docLink);\n",
              "        }\n",
              "      </script>\n",
              "    </div>\n",
              "  </div>\n",
              "  "
            ]
          },
          "metadata": {},
          "execution_count": 84
        }
      ],
      "source": [
        "#numerical measures for the numerical columns\n",
        "df.describe(include='int') "
      ]
    },
    {
      "cell_type": "code",
      "execution_count": 84,
      "id": "008f65ba",
      "metadata": {
        "id": "008f65ba"
      },
      "outputs": [],
      "source": [
        ""
      ]
    },
    {
      "cell_type": "markdown",
      "id": "779e333a",
      "metadata": {
        "id": "779e333a"
      },
      "source": [
        "##### Please list the top 10 countries with the gold medal, then top10 countries with the silver medal, then bronze medal and the total medal."
      ]
    },
    {
      "cell_type": "code",
      "execution_count": 85,
      "id": "91dc6c61",
      "metadata": {
        "id": "91dc6c61",
        "outputId": "16e0dd60-0226-49f2-8833-dc8adfaeac87",
        "colab": {
          "base_uri": "https://localhost:8080/",
          "height": 371
        }
      },
      "outputs": [
        {
          "output_type": "execute_result",
          "data": {
            "text/plain": [
              "<matplotlib.axes._subplots.AxesSubplot at 0x7f7595154cd0>"
            ]
          },
          "metadata": {},
          "execution_count": 85
        },
        {
          "output_type": "display_data",
          "data": {
            "text/plain": [
              "<Figure size 432x288 with 1 Axes>"
            ],
            "image/png": "[encoded data removed]"
          },
          "metadata": {
            "needs_background": "light"
          }
        }
      ],
      "source": [
        "#top10 countries with the gold medal .\n",
        "\n",
        "#grouping the dataset using country and calculating sum of the gold medals after sosting them into ascending order \n",
        "#visualizing the result using bar plot\n",
        "df.groupby('country')['gold_medal'].sum().sort_values(ascending=False).head(10).plot(kind='bar',title='Top 10 countries won gold medal')"
      ]
    },
    {
      "cell_type": "code",
      "execution_count": 86,
      "id": "18bc4d58",
      "metadata": {
        "id": "18bc4d58",
        "outputId": "21aee5fe-a144-4544-e542-a940c412e00f",
        "colab": {
          "base_uri": "https://localhost:8080/",
          "height": 371
        }
      },
      "outputs": [
        {
          "output_type": "execute_result",
          "data": {
            "text/plain": [
              "<matplotlib.axes._subplots.AxesSubplot at 0x7f75952708d0>"
            ]
          },
          "metadata": {},
          "execution_count": 86
        },
        {
          "output_type": "display_data",
          "data": {
            "text/plain": [
              "<Figure size 432x288 with 1 Axes>"
            ],
            "image/png": "[encoded data removed]"
          },
          "metadata": {
            "needs_background": "light"
          }
        }
      ],
      "source": [
        "#top10 countries with the silver medal\n",
        "\n",
        "#grouping the dataset using country and calculating sum of the silver medals after sosting them into ascending order \n",
        "#visualizing the result using bar plot\n",
        "df.groupby('country')['silver_medal'].sum().sort_values(ascending=False).head(10).plot(kind='bar',title='Top 10 countries won silver medal') "
      ]
    },
    {
      "cell_type": "code",
      "execution_count": 87,
      "id": "f1e899bd",
      "metadata": {
        "id": "f1e899bd",
        "outputId": "fe348ff5-cf40-4b8d-8bc6-efa15e6140ac",
        "colab": {
          "base_uri": "https://localhost:8080/",
          "height": 371
        }
      },
      "outputs": [
        {
          "output_type": "execute_result",
          "data": {
            "text/plain": [
              "<matplotlib.axes._subplots.AxesSubplot at 0x7f7595d2d110>"
            ]
          },
          "metadata": {},
          "execution_count": 87
        },
        {
          "output_type": "display_data",
          "data": {
            "text/plain": [
              "<Figure size 432x288 with 1 Axes>"
            ],
            "image/png": "[encoded data removed]"
          },
          "metadata": {
            "needs_background": "light"
          }
        }
      ],
      "source": [
        "#top10 countries with bronze medal.\n",
        "\n",
        "#grouping the dataset using country and calculating sum of the bronze medals after sosting them into ascending order \n",
        "#visualizing the result using bar plot\n",
        "df.groupby('country')['brone_medal'].sum().sort_values(ascending=False).head(10).plot(kind='bar',title='Top 10 countries won bronnze medal') "
      ]
    },
    {
      "cell_type": "code",
      "execution_count": 88,
      "id": "7ffb6740",
      "metadata": {
        "id": "7ffb6740",
        "outputId": "b7d104ed-8652-4407-e310-25d954c430bb",
        "colab": {
          "base_uri": "https://localhost:8080/",
          "height": 371
        }
      },
      "outputs": [
        {
          "output_type": "execute_result",
          "data": {
            "text/plain": [
              "<matplotlib.axes._subplots.AxesSubplot at 0x7f759c257e50>"
            ]
          },
          "metadata": {},
          "execution_count": 88
        },
        {
          "output_type": "display_data",
          "data": {
            "text/plain": [
              "<Figure size 432x288 with 1 Axes>"
            ],
            "image/png": "[encoded data removed]"
          },
          "metadata": {
            "needs_background": "light"
          }
        }
      ],
      "source": [
        "#top10 countries with the total medal.\n",
        "\n",
        "#grouping the dataset using country and calculating sum of the total medals after sosting them into ascending order \n",
        "#visualizing the result using bar plot\n",
        "df.groupby('country')['total_medal'].sum().sort_values(ascending=False).head(10).plot(kind='bar',title='Top 10 countries won medal') "
      ]
    },
    {
      "cell_type": "code",
      "execution_count": 88,
      "id": "d905adc2",
      "metadata": {
        "id": "d905adc2"
      },
      "outputs": [],
      "source": [
        " "
      ]
    },
    {
      "cell_type": "markdown",
      "source": [
        "**PYSPARK **"
      ],
      "metadata": {
        "id": "EbVrPHKp0oXm"
      },
      "id": "EbVrPHKp0oXm"
    },
    {
      "cell_type": "code",
      "execution_count": 41,
      "id": "bfb42363",
      "metadata": {
        "id": "bfb42363",
        "colab": {
          "base_uri": "https://localhost:8080/"
        },
        "outputId": "3ac76158-a544-4c1b-9a3f-a27fbb941cb4"
      },
      "outputs": [
        {
          "output_type": "stream",
          "name": "stdout",
          "text": [
            "Looking in indexes: https://pypi.org/simple, https://us-python.pkg.dev/colab-wheels/public/simple/\n",
            "Collecting pyspark\n",
            "  Downloading pyspark-3.3.0.tar.gz (281.3 MB)\n",
            "\u001b[K     |████████████████████████████████| 281.3 MB 40 kB/s \n",
            "\u001b[?25hCollecting py4j==0.10.9.5\n",
            "  Downloading py4j-0.10.9.5-py2.py3-none-any.whl (199 kB)\n",
            "\u001b[K     |████████████████████████████████| 199 kB 36.2 MB/s \n",
            "\u001b[?25hBuilding wheels for collected packages: pyspark\n",
            "  Building wheel for pyspark (setup.py) ... \u001b[?25l\u001b[?25hdone\n",
            "  Created wheel for pyspark: filename=pyspark-3.3.0-py2.py3-none-any.whl size=281764026 sha256=0d50a31eb9ca7c09319fb60d74ad1f7348c03bd5f3c4fa2a24885c5d3889a213\n",
            "  Stored in directory: /root/.cache/pip/wheels/7a/8e/1b/f73a52650d2e5f337708d9f6a1750d451a7349a867f928b885\n",
            "Successfully built pyspark\n",
            "Installing collected packages: py4j, pyspark\n",
            "Successfully installed py4j-0.10.9.5 pyspark-3.3.0\n"
          ]
        }
      ],
      "source": [
        "pip install pyspark # installing pyspark"
      ]
    },
    {
      "cell_type": "code",
      "source": [
        "#importing libraries \n",
        "\n",
        "# libraries for creating pyspark session\n",
        "from pyspark import SparkContext,SparkConf\n",
        "from pyspark.sql import SparkSession\n",
        "from pyspark.sql import SQLContext\n",
        "\n",
        "# libraries for SQL functions\n",
        "from pyspark.sql import functions as f\n"
      ],
      "metadata": {
        "id": "5na0QrTOrAc7"
      },
      "id": "5na0QrTOrAc7",
      "execution_count": 42,
      "outputs": []
    },
    {
      "cell_type": "markdown",
      "source": [
        "### Write PySpark code to read olympix_data.csv file"
      ],
      "metadata": {
        "id": "uJFdQ1BjZ1Sv"
      },
      "id": "uJFdQ1BjZ1Sv"
    },
    {
      "cell_type": "code",
      "source": [
        "# creatinng session \n",
        "conf=SparkConf().setAppName('olympic_conf')\n",
        "sc=SparkContext(conf=conf)\n",
        "spark=SparkSession.builder.appName('olympic_session').getOrCreate()\n",
        "sqlcont=SQLContext(spark)\n",
        "\n",
        "# reading panda datafram with pyspark \n",
        "sparkDF=spark.createDataFrame(df)\n"
      ],
      "metadata": {
        "id": "L5uStG6Wrwj0"
      },
      "id": "L5uStG6Wrwj0",
      "execution_count": 43,
      "outputs": []
    },
    {
      "cell_type": "code",
      "source": [
        "sparkDF.show(5) # first 5 frows dispalying "
      ],
      "metadata": {
        "colab": {
          "base_uri": "https://localhost:8080/"
        },
        "id": "mqIGLU_LaKuh",
        "outputId": "0dd202fc-382a-49ef-a0e0-a6b63cec395d"
      },
      "id": "mqIGLU_LaKuh",
      "execution_count": 90,
      "outputs": [
        {
          "output_type": "stream",
          "name": "stdout",
          "text": [
            "+----------------+---+-------------+----+----------+----------+----------+------------+-----------+-----------+\n",
            "|            name|age|      country|year|Date_Given|    sports|gold_medal|silver_medal|brone_medal|total_medal|\n",
            "+----------------+---+-------------+----+----------+----------+----------+------------+-----------+-----------+\n",
            "|  Michael Phelps| 23|United States|2008|2008-08-24|  Swimming|         8|           0|          0|          8|\n",
            "|  Michael Phelps| 19|United States|2004|2004-08-29|  Swimming|         6|           0|          2|          8|\n",
            "|  Michael Phelps| 27|United States|2012|2012-12-08|  Swimming|         4|           2|          0|          6|\n",
            "|Natalie Coughlin| 25|United States|2008|2008-08-24|  Swimming|         1|           2|          3|          6|\n",
            "|   Aleksey Nemov| 24|       Russia|2000|2000-01-10|Gymnastics|         2|           1|          3|          6|\n",
            "+----------------+---+-------------+----+----------+----------+----------+------------+-----------+-----------+\n",
            "only showing top 5 rows\n",
            "\n"
          ]
        }
      ]
    },
    {
      "cell_type": "markdown",
      "source": [
        "###  Write PySpark code to print the Olympic Sports/games in the dataset."
      ],
      "metadata": {
        "id": "Tr1KzcxRaUJg"
      },
      "id": "Tr1KzcxRaUJg"
    },
    {
      "cell_type": "code",
      "source": [
        "#distinct sports in dataframe\n",
        "sparkDF.select('sports').distinct().show()"
      ],
      "metadata": {
        "colab": {
          "base_uri": "https://localhost:8080/"
        },
        "id": "wRPnGvdzsm4L",
        "outputId": "c0482a95-8eb9-478a-8fbf-e409c5ab07fd"
      },
      "id": "wRPnGvdzsm4L",
      "execution_count": 91,
      "outputs": [
        {
          "output_type": "stream",
          "name": "stdout",
          "text": [
            "+--------------------+\n",
            "|              sports|\n",
            "+--------------------+\n",
            "|          Gymnastics|\n",
            "|              Tennis|\n",
            "|Short-Track Speed...|\n",
            "|              Rowing|\n",
            "|                Judo|\n",
            "|            Softball|\n",
            "|             Sailing|\n",
            "|            Swimming|\n",
            "|       Alpine Skiing|\n",
            "| Rhythmic Gymnastics|\n",
            "|            Biathlon|\n",
            "|           Triathlon|\n",
            "|           Badminton|\n",
            "|           Athletics|\n",
            "|          Equestrian|\n",
            "|            Shooting|\n",
            "|              Diving|\n",
            "|            Skeleton|\n",
            "|         Ski Jumping|\n",
            "|     Nordic Combined|\n",
            "+--------------------+\n",
            "only showing top 20 rows\n",
            "\n"
          ]
        }
      ]
    },
    {
      "cell_type": "markdown",
      "source": [
        "###  Write PySpark code to plot the total number of medals in  each Olympic Sport/game"
      ],
      "metadata": {
        "id": "Xf8sZasHak-M"
      },
      "id": "Xf8sZasHak-M"
    },
    {
      "cell_type": "code",
      "source": [
        "# grouping the dataset by sports and calculating the sum of total medals. after renaming the column displaying first 20 sports\n",
        "sports_total_medal = sparkDF.groupby('sports').sum('total_medal').withColumnRenamed('sum(total_medal)','no_of_total_medal') \n",
        "sports_total_medal.show()"
      ],
      "metadata": {
        "colab": {
          "base_uri": "https://localhost:8080/"
        },
        "id": "U1zupWhpsqlp",
        "outputId": "b94a56dd-b836-41b8-9cb3-0aa6854bbb11"
      },
      "id": "U1zupWhpsqlp",
      "execution_count": 92,
      "outputs": [
        {
          "output_type": "stream",
          "name": "stdout",
          "text": [
            "+--------------------+-----------------+\n",
            "|              sports|no_of_total_medal|\n",
            "+--------------------+-----------------+\n",
            "|          Gymnastics|              282|\n",
            "|              Tennis|               78|\n",
            "|Short-Track Speed...|              138|\n",
            "|              Rowing|              576|\n",
            "|                Judo|              224|\n",
            "|            Softball|              134|\n",
            "|             Sailing|              210|\n",
            "|            Swimming|              765|\n",
            "|       Alpine Skiing|               90|\n",
            "| Rhythmic Gymnastics|               84|\n",
            "|            Biathlon|              138|\n",
            "|           Triathlon|               24|\n",
            "|           Badminton|               96|\n",
            "|           Athletics|              753|\n",
            "|          Equestrian|              182|\n",
            "|            Shooting|              192|\n",
            "|              Diving|              144|\n",
            "|            Skeleton|               18|\n",
            "|         Ski Jumping|               54|\n",
            "|     Nordic Combined|               54|\n",
            "+--------------------+-----------------+\n",
            "only showing top 20 rows\n",
            "\n"
          ]
        }
      ]
    },
    {
      "cell_type": "markdown",
      "source": [
        "### Sort the result based on the total number of medals."
      ],
      "metadata": {
        "id": "H8bpEkGHbbdh"
      },
      "id": "H8bpEkGHbbdh"
    },
    {
      "cell_type": "code",
      "source": [
        "#sorting the above result and showing the first 20 rows\n",
        "sports_total_medal.orderBy(f.desc('no_of_total_medal')).show()\n",
        "\n",
        "\n",
        "# visualizing the above result using bar plot by converting the result set into panda\n",
        "sports_total_medal.toPandas().sort_values(by='no_of_total_medal',ascending=False).head(10).plot(kind='bar',x='sports',y='no_of_total_medal',figsize=(15,4),title='Top 10 sports won medal')"
      ],
      "metadata": {
        "colab": {
          "base_uri": "https://localhost:8080/",
          "height": 832
        },
        "id": "tHsZnQGQtSbT",
        "outputId": "32d8fb8d-06e3-4341-fd24-3d5ddc6a0f2f"
      },
      "id": "tHsZnQGQtSbT",
      "execution_count": 93,
      "outputs": [
        {
          "output_type": "stream",
          "name": "stdout",
          "text": [
            "+----------+-----------------+\n",
            "|    sports|no_of_total_medal|\n",
            "+----------+-----------------+\n",
            "|  Swimming|              765|\n",
            "| Athletics|              753|\n",
            "|    Rowing|              576|\n",
            "|  Football|              407|\n",
            "|    Hockey|              386|\n",
            "|Ice Hockey|              384|\n",
            "|  Handball|              351|\n",
            "|  Canoeing|              333|\n",
            "| Waterpolo|              306|\n",
            "|   Cycling|              306|\n",
            "|Basketball|              287|\n",
            "|Gymnastics|              282|\n",
            "|Volleyball|              278|\n",
            "|   Fencing|              256|\n",
            "| Wrestling|              245|\n",
            "|      Judo|              224|\n",
            "|  Baseball|              216|\n",
            "|   Sailing|              210|\n",
            "|  Shooting|              192|\n",
            "|    Boxing|              188|\n",
            "+----------+-----------------+\n",
            "only showing top 20 rows\n",
            "\n"
          ]
        },
        {
          "output_type": "execute_result",
          "data": {
            "text/plain": [
              "<matplotlib.axes._subplots.AxesSubplot at 0x7f7595b9a410>"
            ]
          },
          "metadata": {},
          "execution_count": 93
        },
        {
          "output_type": "display_data",
          "data": {
            "text/plain": [
              "<Figure size 1080x288 with 1 Axes>"
            ],
            "image/png": "[encoded data removed]"
          },
          "metadata": {
            "needs_background": "light"
          }
        }
      ]
    },
    {
      "cell_type": "markdown",
      "source": [
        "### Find the total number of medals won by each country in swimming."
      ],
      "metadata": {
        "id": "g5f7s_QRbnG3"
      },
      "id": "g5f7s_QRbnG3"
    },
    {
      "cell_type": "code",
      "source": [
        "#filtering the sports feature with Swimming and grouping the result using country\n",
        "spark_df=sparkDF.where(sparkDF['sports']=='Swimming').groupby('country').sum('total_medal').withColumnRenamed('sum(total_medal)','total_no_of_medal')\n",
        "spark_df.show()# showing top 20 rows\n",
        "\n",
        "# visualizing the above result set using barh plot by converting the result set into pandas\n",
        "spark_df.toPandas().sort_values(by='total_no_of_medal',ascending=False).head(10).plot(kind='barh', x='country',y='total_no_of_medal',figsize=(10,5),title='Top 10 Country won medals')"
      ],
      "metadata": {
        "colab": {
          "base_uri": "https://localhost:8080/",
          "height": 829
        },
        "id": "6bywJyBuuFgP",
        "outputId": "fd4d0ac9-c9ec-42c9-9fb7-31fafdb2ce00"
      },
      "id": "6bywJyBuuFgP",
      "execution_count": 94,
      "outputs": [
        {
          "output_type": "stream",
          "name": "stdout",
          "text": [
            "+-------------+-----------------+\n",
            "|      country|total_no_of_medal|\n",
            "+-------------+-----------------+\n",
            "|       Russia|               20|\n",
            "|       Sweden|                9|\n",
            "|      Germany|               32|\n",
            "|       France|               39|\n",
            "|     Slovakia|                2|\n",
            "|    Argentina|                1|\n",
            "|Great Britain|               11|\n",
            "|United States|              267|\n",
            "|        China|               35|\n",
            "|      Belarus|                2|\n",
            "|      Croatia|                1|\n",
            "|        Italy|               16|\n",
            "|    Lithuania|                1|\n",
            "|       Norway|                2|\n",
            "|        Spain|                3|\n",
            "|      Denmark|                1|\n",
            "|      Ukraine|                7|\n",
            "|  South Korea|                4|\n",
            "|     Zimbabwe|                7|\n",
            "|      Tunisia|                3|\n",
            "+-------------+-----------------+\n",
            "only showing top 20 rows\n",
            "\n"
          ]
        },
        {
          "output_type": "execute_result",
          "data": {
            "text/plain": [
              "<matplotlib.axes._subplots.AxesSubplot at 0x7f7595df9a10>"
            ]
          },
          "metadata": {},
          "execution_count": 94
        },
        {
          "output_type": "display_data",
          "data": {
            "text/plain": [
              "<Figure size 720x360 with 1 Axes>"
            ],
            "image/png": "[encoded data removed]"
          },
          "metadata": {
            "needs_background": "light"
          }
        }
      ]
    },
    {
      "cell_type": "markdown",
      "source": [
        "### Find the total number of medals won by each country in Skeleton."
      ],
      "metadata": {
        "id": "-dwDQDuucHwG"
      },
      "id": "-dwDQDuucHwG"
    },
    {
      "cell_type": "code",
      "source": [
        "#filtering the sports feature with Skeleton and grouping the result using country\n",
        "spark_skeleton=sparkDF.where(sparkDF['sports']=='Skeleton').groupby('country').sum('total_medal').withColumnRenamed('sum(total_medal)','total_no_of_medal')\n",
        "spark_skeleton.show()# showing top 20 rows\n",
        "\n",
        "\n",
        "# visualizing the above result set using pie plot by converting the result set into pandas\n",
        "spark_skeleton.toPandas().groupby(['country']).sum().head(10).plot(kind='pie',y='total_no_of_medal',figsize=(12,8),title='top 10 Country won in Skeleton' )"
      ],
      "metadata": {
        "colab": {
          "base_uri": "https://localhost:8080/",
          "height": 738
        },
        "id": "deZGTaU6uFjF",
        "outputId": "547354b0-d8f9-4903-d121-0e799e21795c"
      },
      "id": "deZGTaU6uFjF",
      "execution_count": 95,
      "outputs": [
        {
          "output_type": "stream",
          "name": "stdout",
          "text": [
            "+-------------+-----------------+\n",
            "|      country|total_no_of_medal|\n",
            "+-------------+-----------------+\n",
            "|       Russia|                1|\n",
            "|      Germany|                2|\n",
            "|Great Britain|                3|\n",
            "|United States|                3|\n",
            "|  Switzerland|                3|\n",
            "|       Latvia|                1|\n",
            "|       Canada|                4|\n",
            "|      Austria|                1|\n",
            "+-------------+-----------------+\n",
            "\n"
          ]
        },
        {
          "output_type": "execute_result",
          "data": {
            "text/plain": [
              "<matplotlib.axes._subplots.AxesSubplot at 0x7f7595c12fd0>"
            ]
          },
          "metadata": {},
          "execution_count": 95
        },
        {
          "output_type": "display_data",
          "data": {
            "text/plain": [
              "<Figure size 864x576 with 1 Axes>"
            ],
            "image/png": "[encoded data removed]"
          },
          "metadata": {}
        }
      ]
    },
    {
      "cell_type": "markdown",
      "source": [
        "### Find the number of medals that the US won yearly."
      ],
      "metadata": {
        "id": "jxbwj7ovcUHJ"
      },
      "id": "jxbwj7ovcUHJ"
    },
    {
      "cell_type": "code",
      "source": [
        "#filtering the country feature by United States and grouping the result using year\n",
        "spark_US=sparkDF.where(sparkDF['country']=='United States').groupby('year').sum('total_medal').withColumnRenamed('sum(total_medal)','total_no_of_medal')\n",
        "spark_US.show()# showing top 20 rows\n",
        "\n",
        "# visualizing the above result set using line plot by converting the result set into pandas\n",
        "spark_US.toPandas().sort_values(by='year').plot(kind='line',x='year',figsize=(10,5),title='US won medals')"
      ],
      "metadata": {
        "colab": {
          "base_uri": "https://localhost:8080/",
          "height": 587
        },
        "id": "4zKSYyWDuFmO",
        "outputId": "27ddeac4-9c43-409e-a111-2c4950547634"
      },
      "id": "4zKSYyWDuFmO",
      "execution_count": 96,
      "outputs": [
        {
          "output_type": "stream",
          "name": "stdout",
          "text": [
            "+----+-----------------+\n",
            "|year|total_no_of_medal|\n",
            "+----+-----------------+\n",
            "|2012|              254|\n",
            "|2010|               97|\n",
            "|2006|               52|\n",
            "|2004|              265|\n",
            "|2002|               84|\n",
            "|2008|              317|\n",
            "|2000|              243|\n",
            "+----+-----------------+\n",
            "\n"
          ]
        },
        {
          "output_type": "execute_result",
          "data": {
            "text/plain": [
              "<matplotlib.axes._subplots.AxesSubplot at 0x7f7595bad990>"
            ]
          },
          "metadata": {},
          "execution_count": 96
        },
        {
          "output_type": "display_data",
          "data": {
            "text/plain": [
              "<Figure size 720x360 with 1 Axes>"
            ],
            "image/png": "[encoded data removed]"
          },
          "metadata": {
            "needs_background": "light"
          }
        }
      ]
    },
    {
      "cell_type": "code",
      "source": [
        "# Find the total number of medals won by each country. \n",
        "spark_df=sparkDF.groupby('country').sum('total_medal').withColumnRenamed('sum(total_medal)','total_no_of_medal')\n",
        "spark_df.show()\n",
        "\n",
        "spark_df.toPandas().sort_values(by='total_no_of_medal',ascending=False).head(30).plot(kind='bar',x='country',y='total_no_of_medal',figsize=(15,5),title='Top 30 country wo medals')"
      ],
      "metadata": {
        "colab": {
          "base_uri": "https://localhost:8080/",
          "height": 908
        },
        "id": "A2rLI5lyuFpm",
        "outputId": "b719af28-f351-4267-c2ce-4f99ee4db6e2"
      },
      "id": "A2rLI5lyuFpm",
      "execution_count": 97,
      "outputs": [
        {
          "output_type": "stream",
          "name": "stdout",
          "text": [
            "+--------------+-----------------+\n",
            "|       country|total_no_of_medal|\n",
            "+--------------+-----------------+\n",
            "|        Russia|              768|\n",
            "|Chinese Taipei|               20|\n",
            "|        Sweden|              181|\n",
            "|     Singapore|                7|\n",
            "|        Turkey|               28|\n",
            "|       Germany|              629|\n",
            "|   Afghanistan|                2|\n",
            "|        France|              318|\n",
            "|        Greece|               59|\n",
            "|       Algeria|                8|\n",
            "|      Slovakia|               35|\n",
            "|     Argentina|              139|\n",
            "|       Belgium|               18|\n",
            "| Great Britain|              322|\n",
            "|         Qatar|                3|\n",
            "|       Finland|              118|\n",
            "| United States|             1312|\n",
            "|         China|              530|\n",
            "|       Bahamas|               24|\n",
            "|         India|               11|\n",
            "+--------------+-----------------+\n",
            "only showing top 20 rows\n",
            "\n"
          ]
        },
        {
          "output_type": "execute_result",
          "data": {
            "text/plain": [
              "<matplotlib.axes._subplots.AxesSubplot at 0x7f759505b490>"
            ]
          },
          "metadata": {},
          "execution_count": 97
        },
        {
          "output_type": "display_data",
          "data": {
            "text/plain": [
              "<Figure size 1080x360 with 1 Axes>"
            ],
            "image/png": "[encoded data removed]"
          },
          "metadata": {
            "needs_background": "light"
          }
        }
      ]
    },
    {
      "cell_type": "markdown",
      "source": [
        "### Who was the oldest athlete in the olympics? Which country was he/she from?"
      ],
      "metadata": {
        "id": "TXsMJ0HWcndi"
      },
      "id": "TXsMJ0HWcndi"
    },
    {
      "cell_type": "code",
      "source": [
        "# ordering the dataset using age feature in descending order and returning the top oldest athlete \n",
        "sparkDF.select('name','age','country').orderBy(f.desc('age')).show(1)"
      ],
      "metadata": {
        "colab": {
          "base_uri": "https://localhost:8080/"
        },
        "id": "1YjqO9bcvjRG",
        "outputId": "e6b78773-30a1-43a8-9f2a-8cf0d0f42f75"
      },
      "id": "1YjqO9bcvjRG",
      "execution_count": 99,
      "outputs": [
        {
          "output_type": "stream",
          "name": "stdout",
          "text": [
            "+----------+---+-------+\n",
            "|      name|age|country|\n",
            "+----------+---+-------+\n",
            "|Ian Millar| 61| Canada|\n",
            "+----------+---+-------+\n",
            "only showing top 1 row\n",
            "\n"
          ]
        }
      ]
    },
    {
      "cell_type": "code",
      "source": [
        ""
      ],
      "metadata": {
        "id": "nkrYHRubtUbF"
      },
      "id": "nkrYHRubtUbF",
      "execution_count": null,
      "outputs": []
    }
  ],
  "metadata": {
    "kernelspec": {
      "display_name": "Python 3 (ipykernel)",
      "language": "python",
      "name": "python3"
    },
    "language_info": {
      "codemirror_mode": {
        "name": "ipython",
        "version": 3
      },
      "file_extension": ".py",
      "mimetype": "text/x-python",
      "name": "python",
      "nbconvert_exporter": "python",
      "pygments_lexer": "ipython3",
      "version": "3.9.7"
    },
    "colab": {
      "name": "Somya_Singh_Capstone_project_EDA_&_Pyspark_V2.ipynb",
      "provenance": [],
      "collapsed_sections": []
    }
  },
  "nbformat": 4,
  "nbformat_minor": 5
}